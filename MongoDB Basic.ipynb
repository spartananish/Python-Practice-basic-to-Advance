{
 "cells": [
  {
   "cell_type": "code",
   "execution_count": 2,
   "id": "c86c1227",
   "metadata": {},
   "outputs": [
    {
     "name": "stdout",
     "output_type": "stream",
     "text": [
      "Collecting pymongo\n",
      "  Downloading pymongo-4.0.1-cp39-cp39-win_amd64.whl (354 kB)\n",
      "Installing collected packages: pymongo\n",
      "Successfully installed pymongo-4.0.1\n"
     ]
    }
   ],
   "source": [
    "!python -m pip install pymongo\n"
   ]
  },
  {
   "cell_type": "code",
   "execution_count": 3,
   "id": "a0e21721",
   "metadata": {},
   "outputs": [
    {
     "name": "stdout",
     "output_type": "stream",
     "text": [
      "Requirement already satisfied: pymongo[srv] in c:\\users\\dell\\anaconda3\\lib\\site-packages (4.0.1)\n",
      "Collecting dnspython<3.0.0,>=1.16.0\n",
      "  Downloading dnspython-2.1.0-py3-none-any.whl (241 kB)\n",
      "Installing collected packages: dnspython\n",
      "Successfully installed dnspython-2.1.0\n"
     ]
    }
   ],
   "source": [
    "!pip install pymongo[srv]"
   ]
  },
  {
   "cell_type": "code",
   "execution_count": 5,
   "id": "640c5a28",
   "metadata": {},
   "outputs": [],
   "source": [
    "# Importing PyMongo\n",
    "import pymongo\n",
    "# Make Connection  \n",
    "client =  pymongo.MongoClient(\"mongodb://localhost:27017/\")\n",
    "db = client.test"
   ]
  },
  {
   "cell_type": "code",
   "execution_count": 9,
   "id": "d962f1ce",
   "metadata": {},
   "outputs": [],
   "source": [
    "# Create Db   \n",
    "db = client['TestDB']\n"
   ]
  },
  {
   "cell_type": "code",
   "execution_count": 10,
   "id": "3b225e3d",
   "metadata": {},
   "outputs": [],
   "source": [
    "# Create Collection it is something like tablein sql  \n",
    "collection= db['test']"
   ]
  },
  {
   "cell_type": "code",
   "execution_count": 11,
   "id": "81c54800",
   "metadata": {},
   "outputs": [
    {
     "data": {
      "text/plain": [
       "<pymongo.results.InsertOneResult at 0x1dca41faa00>"
      ]
     },
     "execution_count": 11,
     "metadata": {},
     "output_type": "execute_result"
    }
   ],
   "source": [
    "# Create Record\n",
    "record = {'companyName':'Ineuron Training',\n",
    "         'course':'Full Stack DataScience',\n",
    "         'duration':'1Year'}\n",
    "collection.insert_one(record)"
   ]
  },
  {
   "cell_type": "code",
   "execution_count": 6,
   "id": "b329c570",
   "metadata": {},
   "outputs": [
    {
     "data": {
      "text/plain": [
       "<pymongo.results.InsertOneResult at 0x214ce2fc7c0>"
      ]
     },
     "execution_count": 6,
     "metadata": {},
     "output_type": "execute_result"
    }
   ],
   "source": [
    "import pymongo\n",
    "client= pymongo.MongoClient('mongodb://localhost:27017/')\n",
    "db = client['test']\n",
    "record ={'companyName':'Ineuron Training',\n",
    "         'course':'Full Stack DataScience',\n",
    "         'duration':'1Year'}\n",
    "collection = db['test']\n",
    "collection.insert_one(record)"
   ]
  },
  {
   "cell_type": "code",
   "execution_count": 8,
   "id": "62b4388b",
   "metadata": {},
   "outputs": [
    {
     "data": {
      "text/plain": [
       "<pymongo.results.InsertOneResult at 0x214ce308b00>"
      ]
     },
     "execution_count": 8,
     "metadata": {},
     "output_type": "execute_result"
    }
   ],
   "source": [
    "record ={'companyName':'Ineuron Training',\n",
    "         'course':'Full Stack DataScience',\n",
    "         'duration':'1Year'}\n",
    "collection.insert_one(record)"
   ]
  },
  {
   "cell_type": "code",
   "execution_count": 9,
   "id": "8b406a15",
   "metadata": {},
   "outputs": [
    {
     "data": {
      "text/plain": [
       "<pymongo.results.InsertManyResult at 0x214ce313380>"
      ]
     },
     "execution_count": 9,
     "metadata": {},
     "output_type": "execute_result"
    }
   ],
   "source": [
    "# to insert list of record\n",
    "list_of_record = [{'companyName':'Ineuron Training',\n",
    "         'course':'Full Stack DataScience',\n",
    "         'duration':'1Year'},\n",
    "                 {'companyName':'Ineuron Training',\n",
    "         'course':'Full Stack DataScience',\n",
    "         'duration':'1Year'},\n",
    "                 {'companyName':'Ineuron Training',\n",
    "         'course':'Full Stack DataScience',\n",
    "         'duration':'1Year'}] \n",
    "collection.insert_many(list_of_record)"
   ]
  },
  {
   "cell_type": "code",
   "execution_count": 14,
   "id": "6cd312fa",
   "metadata": {},
   "outputs": [
    {
     "data": {
      "text/plain": [
       "<pymongo.results.InsertOneResult at 0x214cd4b5f40>"
      ]
     },
     "execution_count": 14,
     "metadata": {},
     "output_type": "execute_result"
    }
   ],
   "source": [
    "# here we can modify the the bydefault ID which is generated my MongoDB\n",
    "record = {'_id':'1','companyName':'Ineuron Training',\n",
    "         'course':'Full Stack DataScience',\n",
    "         'duration':'1Year'}\n",
    "collection.insert_one(record)"
   ]
  },
  {
   "cell_type": "code",
   "execution_count": 20,
   "id": "f8ed56d6",
   "metadata": {},
   "outputs": [
    {
     "name": "stdout",
     "output_type": "stream",
     "text": [
      "{'_id': ObjectId('61b56a25641a02d3234f90d6'), 'companyName': 'Ineuron Training', 'course': 'Full Stack DataScience', 'duration': '1Year'}\n",
      "{'_id': ObjectId('61b56a67641a02d3234f90d8'), 'companyName': 'Ineuron Training', 'course': 'Full Stack DataScience', 'duration': '1Year'}\n",
      "{'_id': ObjectId('61b56ab7641a02d3234f90d9'), 'companyName': 'Ineuron Training', 'course': 'Full Stack DataScience', 'duration': '1Year'}\n",
      "{'_id': ObjectId('61b56b7a641a02d3234f90da'), 'companyName': 'Ineuron Training', 'course': 'Full Stack DataScience', 'duration': '1Year'}\n",
      "{'_id': ObjectId('61b56b7a641a02d3234f90db'), 'companyName': 'Ineuron Training', 'course': 'Full Stack DataScience', 'duration': '1Year'}\n",
      "{'_id': ObjectId('61b56b7a641a02d3234f90dc'), 'companyName': 'Ineuron Training', 'course': 'Full Stack DataScience', 'duration': '1Year'}\n",
      "{'_id': '1', 'companyName': 'Ineuron Training', 'course': 'Full Stack DataScience', 'duration': '1Year'}\n"
     ]
    }
   ],
   "source": [
    "# To find all data in MySQl DB\n",
    "for i in collection.find():\n",
    "        print(i)"
   ]
  },
  {
   "cell_type": "code",
   "execution_count": 23,
   "id": "e4850b7a",
   "metadata": {},
   "outputs": [
    {
     "data": {
      "text/plain": [
       "{'_id': '1',\n",
       " 'companyName': 'Ineuron Training',\n",
       " 'course': 'Full Stack DataScience',\n",
       " 'duration': '1Year'}"
      ]
     },
     "execution_count": 23,
     "metadata": {},
     "output_type": "execute_result"
    }
   ],
   "source": [
    "# To find single data\n",
    "collection.find_one({'_id':'1'})"
   ]
  },
  {
   "cell_type": "code",
   "execution_count": 28,
   "id": "49180c95",
   "metadata": {},
   "outputs": [
    {
     "data": {
      "text/plain": [
       "<pymongo.cursor.Cursor at 0x214cec3e5b0>"
      ]
     },
     "execution_count": 28,
     "metadata": {},
     "output_type": "execute_result"
    }
   ],
   "source": [
    "#to check greate the  functionality we use $gt\n",
    "collection.find({'_id':{'$gt':'1'}})"
   ]
  },
  {
   "cell_type": "code",
   "execution_count": null,
   "id": "ca335956",
   "metadata": {},
   "outputs": [],
   "source": [
    "# To check greater than or equal to i\n",
    "collection.find({'_id':{'$gte':'1'}})\n"
   ]
  },
  {
   "cell_type": "code",
   "execution_count": 34,
   "id": "c761cd66",
   "metadata": {},
   "outputs": [
    {
     "data": {
      "text/plain": [
       "<pymongo.results.DeleteResult at 0x214ce3aeb80>"
      ]
     },
     "execution_count": 34,
     "metadata": {},
     "output_type": "execute_result"
    }
   ],
   "source": [
    "# Delete operation \n",
    "delete_query= {'id':'1'}\n",
    "collection.delete_one(delete_query)"
   ]
  },
  {
   "cell_type": "code",
   "execution_count": 36,
   "id": "4908efea",
   "metadata": {},
   "outputs": [
    {
     "data": {
      "text/plain": [
       "<pymongo.results.UpdateResult at 0x214cebfdf80>"
      ]
     },
     "execution_count": 36,
     "metadata": {},
     "output_type": "execute_result"
    }
   ],
   "source": [
    "present_data ={'course':'Full Stack DataScience'}\n",
    "new_data= {\"$set\":{'course':'Maschine Learning'}}\n",
    "collection.update_one(present_data,new_data)"
   ]
  },
  {
   "cell_type": "code",
   "execution_count": null,
   "id": "d51f71b4",
   "metadata": {},
   "outputs": [],
   "source": []
  }
 ],
 "metadata": {
  "kernelspec": {
   "display_name": "Python 3 (ipykernel)",
   "language": "python",
   "name": "python3"
  },
  "language_info": {
   "codemirror_mode": {
    "name": "ipython",
    "version": 3
   },
   "file_extension": ".py",
   "mimetype": "text/x-python",
   "name": "python",
   "nbconvert_exporter": "python",
   "pygments_lexer": "ipython3",
   "version": "3.9.7"
  }
 },
 "nbformat": 4,
 "nbformat_minor": 5
}
