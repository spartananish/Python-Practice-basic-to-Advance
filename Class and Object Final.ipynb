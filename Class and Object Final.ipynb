{
 "cells": [
  {
   "cell_type": "code",
   "execution_count": 1,
   "id": "d6282eee",
   "metadata": {},
   "outputs": [],
   "source": [
    "# Way of Creating Class\n",
    "# Class key word is used declair any class\n",
    "class car:\n",
    "    pass"
   ]
  },
  {
   "cell_type": "code",
   "execution_count": 2,
   "id": "264c4c92",
   "metadata": {},
   "outputs": [],
   "source": [
    "#Way of creating Object\n",
    "andi = car()"
   ]
  },
  {
   "cell_type": "code",
   "execution_count": 3,
   "id": "db9dab8c",
   "metadata": {},
   "outputs": [],
   "source": [
    "class Car:\n",
    "    # __init__() act as constructor,self is not a key word\n",
    "    def __init__(self,milage,year,make,model):\n",
    "        self.milage = milage\n",
    "        self.year = year\n",
    "        self.make = make\n",
    "        self.model = model\n",
    "    # If we are definig method inside a class we define we need to declair extra variable something like\n",
    "    # self in order to access class variable\n",
    "    def performance(a):\n",
    "        print(a.milage)\n",
    "        print(a.year)\n",
    "        print(a.make)\n",
    "        print(a.model)\n",
    "        "
   ]
  },
  {
   "cell_type": "code",
   "execution_count": 4,
   "id": "2adfe702",
   "metadata": {},
   "outputs": [
    {
     "name": "stdout",
     "output_type": "stream",
     "text": [
      "25\n",
      "2012\n",
      "Tata\n",
      "Nexon\n"
     ]
    }
   ],
   "source": [
    "obj = Car(25,2012,'Tata','Nexon')\n",
    "obj.performance()"
   ]
  },
  {
   "cell_type": "code",
   "execution_count": 23,
   "id": "b02afb90",
   "metadata": {
    "scrolled": true
   },
   "outputs": [],
   "source": [
    "class Vehicle:\n",
    "    def __init__(self,vehicel_type,vehicle_drive,vehicle_fuel,vehicle_train,option_type):\n",
    "        self.vehicel_type = vehicel_type\n",
    "        self.vehicle_drive = vehicle_drive\n",
    "        self.vehicle_fuel = vehicle_fuel\n",
    "        self.vehicle_train = vehicle_train\n",
    "        self.option_type = option_type\n",
    "    def defineCar(self,option):\n",
    "        if(self.option_type =='car'):\n",
    "            def car(a,price):\n",
    "                print(\"Your Vehicel type\",a.vehicel_type)\n",
    "                print(\"Your Vehicle drive type\",a.vehicle_drive)\n",
    "                print(\"Your Vehicle fuel type\",a.vehicle_fuel)\n",
    "                print(\"Your Vehicle Train is\",a.vehicle_train)\n",
    "                print(\"Your Vehicle cost is\",price)\n",
    "        elif (self.option_type == \"bike\"):\n",
    "            def Bike(a,price):\n",
    "                print(\"Your Vehicel type\",a.vehicel_type)\n",
    "                print(\"Your Vehicle drive type\",a.vehicle_drive)\n",
    "                print(\"Your Vehicle fuel type\",a.vehicle_fuel)\n",
    "                print(\"Your Vehicle Train is\",a.vehicle_train)\n",
    "                print(\"Your Vehicle cost is\",price)\n",
    "        elif(self.option_type == 'truck'):\n",
    "            def Truck(a,price):\n",
    "                print(\"Your Vehicel type\",a.vehicel_type)\n",
    "                print(\"Your Vehicle drive type\",a.vehicle_drive)\n",
    "                print(\"Your Vehicle fuel type\",a.vehicle_fuel)\n",
    "                print(\"Your Vehicle Train is\",a.vehicle_train)\n",
    "                print(\"Your Vehicle cost is\",price)\n",
    "        elif(self.option_type == 'bus'):\n",
    "            def Bus(a,price):\n",
    "                print(\"Your Vehicel type\",a.vehicel_type)\n",
    "                print(\"Your Vehicle drive type\",a.vehicle_drive)\n",
    "                print(\"Your Vehicle fuel type\",a.vehicle_fuel)\n",
    "                print(\"Your Vehicle Train is\",a.vehicle_train)\n",
    "                print(\"Your Vehicle cost is\",price)\n",
    "    \n",
    "    \n",
    "    \n",
    "        \n",
    "        \n",
    "    "
   ]
  },
  {
   "cell_type": "code",
   "execution_count": 24,
   "id": "45948326",
   "metadata": {},
   "outputs": [],
   "source": [
    "obj = Vehicle('car','2-Wheel','petrol','all-Train','car')\n",
    "obj.defineCar('car')"
   ]
  },
  {
   "cell_type": "code",
   "execution_count": 20,
   "id": "a3621672",
   "metadata": {},
   "outputs": [],
   "source": [
    "class Test1:\n",
    "    def __init__(self,a,b,c,d):\n",
    "        self.a = a\n",
    "        self.b = b\n",
    "        self.c = c\n",
    "        self.d = d\n",
    "    def subtract(self,v):\n",
    "        print(v-self.a)\n",
    "        print(v-self.b)\n",
    "        print(v-self.c)\n",
    "        print(v-self.d)"
   ]
  },
  {
   "cell_type": "code",
   "execution_count": 22,
   "id": "2f5caacf",
   "metadata": {},
   "outputs": [
    {
     "name": "stdout",
     "output_type": "stream",
     "text": [
      "28\n",
      "27\n",
      "26\n",
      "25\n"
     ]
    }
   ],
   "source": [
    "d = Test1(2,3,4,5)\n",
    "d.subtract(30)"
   ]
  },
  {
   "cell_type": "code",
   "execution_count": 25,
   "id": "26c0381a",
   "metadata": {},
   "outputs": [],
   "source": [
    "# Function in Python\n",
    "# In python fucntion  start with def()\n",
    "def get(a,b):\n",
    "    print(a+b)"
   ]
  },
  {
   "cell_type": "code",
   "execution_count": 26,
   "id": "5e68c074",
   "metadata": {},
   "outputs": [
    {
     "name": "stdout",
     "output_type": "stream",
     "text": [
      "13\n"
     ]
    }
   ],
   "source": [
    "# calling a function\n",
    "get(5,8)"
   ]
  },
  {
   "cell_type": "code",
   "execution_count": 27,
   "id": "60df9443",
   "metadata": {},
   "outputs": [
    {
     "name": "stdout",
     "output_type": "stream",
     "text": [
      "7\n"
     ]
    },
    {
     "data": {
      "text/plain": [
       "NoneType"
      ]
     },
     "execution_count": 27,
     "metadata": {},
     "output_type": "execute_result"
    }
   ],
   "source": [
    "#type()\n",
    "type(get(3,4))"
   ]
  },
  {
   "cell_type": "code",
   "execution_count": 30,
   "id": "2cabb818",
   "metadata": {},
   "outputs": [],
   "source": [
    "def add(a,b):\n",
    "    return a+b\n"
   ]
  },
  {
   "cell_type": "code",
   "execution_count": 31,
   "id": "f137b063",
   "metadata": {},
   "outputs": [
    {
     "data": {
      "text/plain": [
       "int"
      ]
     },
     "execution_count": 31,
     "metadata": {},
     "output_type": "execute_result"
    }
   ],
   "source": [
    "type(add(8,9))"
   ]
  },
  {
   "cell_type": "code",
   "execution_count": 32,
   "id": "584596c7",
   "metadata": {},
   "outputs": [],
   "source": [
    "# In python we can return multiple values \n",
    "def alloperation(a,b):\n",
    "    return a+b,a*b,a-b"
   ]
  },
  {
   "cell_type": "code",
   "execution_count": 33,
   "id": "3aebc809",
   "metadata": {},
   "outputs": [
    {
     "data": {
      "text/plain": [
       "(5, 6, -1)"
      ]
     },
     "execution_count": 33,
     "metadata": {},
     "output_type": "execute_result"
    }
   ],
   "source": [
    "alloperation(2,3)"
   ]
  },
  {
   "cell_type": "code",
   "execution_count": 36,
   "id": "c1f68732",
   "metadata": {},
   "outputs": [
    {
     "name": "stdout",
     "output_type": "stream",
     "text": [
      "5 6 -1\n"
     ]
    }
   ],
   "source": [
    "a,b,c = alloperation(2,3)\n",
    "print(a,b,c)"
   ]
  },
  {
   "cell_type": "code",
   "execution_count": 37,
   "id": "cf920ffe",
   "metadata": {},
   "outputs": [],
   "source": [
    "#In python we can initilize value at the time of creation\n",
    "def test4(a,b=90):\n",
    "    return a+b"
   ]
  },
  {
   "cell_type": "code",
   "execution_count": 38,
   "id": "eb19211b",
   "metadata": {},
   "outputs": [
    {
     "data": {
      "text/plain": [
       "120"
      ]
     },
     "execution_count": 38,
     "metadata": {},
     "output_type": "execute_result"
    }
   ],
   "source": [
    "test4(30)"
   ]
  },
  {
   "cell_type": "code",
   "execution_count": 39,
   "id": "4fc23350",
   "metadata": {},
   "outputs": [],
   "source": [
    "def test5(a=True,b=False):\n",
    "    return a+b"
   ]
  },
  {
   "cell_type": "code",
   "execution_count": 40,
   "id": "fc0f955c",
   "metadata": {},
   "outputs": [
    {
     "data": {
      "text/plain": [
       "1"
      ]
     },
     "execution_count": 40,
     "metadata": {},
     "output_type": "execute_result"
    }
   ],
   "source": [
    "test5()"
   ]
  },
  {
   "cell_type": "code",
   "execution_count": 41,
   "id": "5476f9a3",
   "metadata": {},
   "outputs": [],
   "source": [
    "#In python we can *args to pass as many number of argument we want \n",
    "def argsmethod(*args):\n",
    "    print(args[1])\n",
    "    return args\n"
   ]
  },
  {
   "cell_type": "code",
   "execution_count": 44,
   "id": "e64fba64",
   "metadata": {},
   "outputs": [
    {
     "name": "stdout",
     "output_type": "stream",
     "text": [
      "2\n",
      "(1, 2, 3, 4, 5, 6, 'dfjdkl')\n"
     ]
    }
   ],
   "source": [
    "a= argsmethod(1,2,3,4,5,6,'dfjdkl')\n",
    "print(a)"
   ]
  },
  {
   "cell_type": "code",
   "execution_count": 45,
   "id": "e5e2a070",
   "metadata": {},
   "outputs": [],
   "source": [
    "# If we want to pass value in key value pair we cab use **kwargs\n",
    "def test7(**kwargs):\n",
    "    return kwargs"
   ]
  },
  {
   "cell_type": "code",
   "execution_count": 47,
   "id": "3644d2a4",
   "metadata": {},
   "outputs": [
    {
     "data": {
      "text/plain": [
       "{'a': 8}"
      ]
     },
     "execution_count": 47,
     "metadata": {},
     "output_type": "execute_result"
    }
   ],
   "source": [
    "test7(a=8)"
   ]
  },
  {
   "cell_type": "code",
   "execution_count": 48,
   "id": "e2cbc4c6",
   "metadata": {},
   "outputs": [],
   "source": [
    "# To print all data with kwargs\n",
    "def test8(**kwargs):\n",
    "    return kwargs.items()"
   ]
  },
  {
   "cell_type": "code",
   "execution_count": 50,
   "id": "2de1ef15",
   "metadata": {},
   "outputs": [
    {
     "data": {
      "text/plain": [
       "dict_items([('a', 9), ('b', 8), ('c', 7)])"
      ]
     },
     "execution_count": 50,
     "metadata": {},
     "output_type": "execute_result"
    }
   ],
   "source": [
    "test8(a=9,b=8,c=7)"
   ]
  },
  {
   "cell_type": "code",
   "execution_count": 51,
   "id": "a40377c9",
   "metadata": {},
   "outputs": [],
   "source": [
    "# Lambda Expression in Python\n",
    "# Lambda expression \n",
    "m = lambda a,b :a+b"
   ]
  },
  {
   "cell_type": "code",
   "execution_count": 52,
   "id": "b4e82f13",
   "metadata": {},
   "outputs": [
    {
     "data": {
      "text/plain": [
       "15"
      ]
     },
     "execution_count": 52,
     "metadata": {},
     "output_type": "execute_result"
    }
   ],
   "source": [
    "m(7,8)"
   ]
  },
  {
   "cell_type": "code",
   "execution_count": 53,
   "id": "7d854252",
   "metadata": {},
   "outputs": [],
   "source": [
    "n = lambda x:[i for i in range(10) if i%2 == 0]"
   ]
  },
  {
   "cell_type": "code",
   "execution_count": 54,
   "id": "0310fdd9",
   "metadata": {},
   "outputs": [
    {
     "data": {
      "text/plain": [
       "[0, 2, 4, 6, 8]"
      ]
     },
     "execution_count": 54,
     "metadata": {},
     "output_type": "execute_result"
    }
   ],
   "source": [
    "n(10)"
   ]
  },
  {
   "cell_type": "code",
   "execution_count": 59,
   "id": "4d71e36e",
   "metadata": {},
   "outputs": [],
   "source": [
    "n = lambda x:[i for i in range(10) if i%2!= 0]"
   ]
  },
  {
   "cell_type": "code",
   "execution_count": 60,
   "id": "3f8b636e",
   "metadata": {},
   "outputs": [
    {
     "data": {
      "text/plain": [
       "[1, 3, 5, 7, 9]"
      ]
     },
     "execution_count": 60,
     "metadata": {},
     "output_type": "execute_result"
    }
   ],
   "source": [
    "n(20)"
   ]
  },
  {
   "cell_type": "code",
   "execution_count": null,
   "id": "53862bec",
   "metadata": {},
   "outputs": [],
   "source": []
  }
 ],
 "metadata": {
  "kernelspec": {
   "display_name": "Python 3 (ipykernel)",
   "language": "python",
   "name": "python3"
  },
  "language_info": {
   "codemirror_mode": {
    "name": "ipython",
    "version": 3
   },
   "file_extension": ".py",
   "mimetype": "text/x-python",
   "name": "python",
   "nbconvert_exporter": "python",
   "pygments_lexer": "ipython3",
   "version": "3.9.7"
  }
 },
 "nbformat": 4,
 "nbformat_minor": 5
}
