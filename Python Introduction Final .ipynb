{
 "cells": [
  {
   "cell_type": "code",
   "execution_count": 1,
   "id": "ef95abe5",
   "metadata": {},
   "outputs": [
    {
     "name": "stdout",
     "output_type": "stream",
     "text": [
      "This is my first Python Program\n"
     ]
    }
   ],
   "source": [
    "# Python Complete Introduction \n",
    "print(\"This is my first Python Program\")"
   ]
  },
  {
   "cell_type": "code",
   "execution_count": 2,
   "id": "80ba99d3",
   "metadata": {},
   "outputs": [],
   "source": [
    "# This is single Line comment \"#\""
   ]
  },
  {
   "cell_type": "code",
   "execution_count": 3,
   "id": "d452f614",
   "metadata": {},
   "outputs": [
    {
     "data": {
      "text/plain": [
       "'This is multi line Comment'"
      ]
     },
     "execution_count": 3,
     "metadata": {},
     "output_type": "execute_result"
    }
   ],
   "source": [
    "\"\"\"This is multi line Comment\"\"\""
   ]
  },
  {
   "cell_type": "code",
   "execution_count": 6,
   "id": "4903487d",
   "metadata": {},
   "outputs": [],
   "source": [
    "#Variable in Python\n",
    "# In python we dont define any variable\n",
    "a = 3\n",
    "b=\"dfbsdhlg\""
   ]
  },
  {
   "cell_type": "code",
   "execution_count": 7,
   "id": "8f0fad2b",
   "metadata": {},
   "outputs": [
    {
     "data": {
      "text/plain": [
       "str"
      ]
     },
     "execution_count": 7,
     "metadata": {},
     "output_type": "execute_result"
    }
   ],
   "source": [
    "type(a)\n",
    "type(b)"
   ]
  },
  {
   "cell_type": "code",
   "execution_count": 9,
   "id": "7a48bf06",
   "metadata": {},
   "outputs": [
    {
     "name": "stdout",
     "output_type": "stream",
     "text": [
      "2 3 4\n"
     ]
    }
   ],
   "source": [
    "# Multi Value assignment in Python \n",
    "a,b,c = 2,3,4\n",
    "print(a,b,c)"
   ]
  },
  {
   "cell_type": "code",
   "execution_count": 10,
   "id": "b3deba38",
   "metadata": {},
   "outputs": [
    {
     "name": "stdout",
     "output_type": "stream",
     "text": [
      "dfgs 4 dfgd\n"
     ]
    }
   ],
   "source": [
    "a,b,c = \"dfgs\",4,\"dfgd\"\n",
    "print(a,b,c)"
   ]
  },
  {
   "cell_type": "code",
   "execution_count": 11,
   "id": "48f56ee9",
   "metadata": {},
   "outputs": [
    {
     "name": "stdout",
     "output_type": "stream",
     "text": [
      "2\n"
     ]
    }
   ],
   "source": [
    "# in Python True and False is defined as 1 and 0\n",
    "print(True+False+True+False)"
   ]
  },
  {
   "cell_type": "code",
   "execution_count": 12,
   "id": "20cb284b",
   "metadata": {},
   "outputs": [
    {
     "name": "stdout",
     "output_type": "stream",
     "text": [
      "0\n"
     ]
    }
   ],
   "source": [
    "print(False-True+True)"
   ]
  },
  {
   "cell_type": "code",
   "execution_count": 14,
   "id": "892e1701",
   "metadata": {},
   "outputs": [
    {
     "name": "stdout",
     "output_type": "stream",
     "text": [
      "(445+23j)\n"
     ]
    },
    {
     "data": {
      "text/plain": [
       "complex"
      ]
     },
     "execution_count": 14,
     "metadata": {},
     "output_type": "execute_result"
    }
   ],
   "source": [
    "# Python can handle general Cariable very easily \n",
    "j = 445+23j\n",
    "print(j)\n",
    "type(j)"
   ]
  },
  {
   "cell_type": "code",
   "execution_count": 16,
   "id": "4fe657c0",
   "metadata": {},
   "outputs": [
    {
     "data": {
      "text/plain": [
       "'anishanish'"
      ]
     },
     "execution_count": 16,
     "metadata": {},
     "output_type": "execute_result"
    }
   ],
   "source": [
    "# Python Concitation\n",
    "'anish'*3\n",
    "'anish'+'anish'"
   ]
  },
  {
   "cell_type": "code",
   "execution_count": 17,
   "id": "86a48bf2",
   "metadata": {},
   "outputs": [
    {
     "name": "stdout",
     "output_type": "stream",
     "text": [
      "Enter a Value23\n",
      "23\n"
     ]
    }
   ],
   "source": [
    "# Taking input in Python\n",
    "a = input(\"Enter a Value\")\n",
    "print(a)"
   ]
  },
  {
   "cell_type": "code",
   "execution_count": null,
   "id": "69d8a9b7",
   "metadata": {},
   "outputs": [],
   "source": [
    "# By default python take value as String\n",
    "a=input(\"Enter Value of A\")\n",
    "b=input(\"Enter Value of B\")\n",
    "c=input(\"Enter Value of C\")\n",
    "d = a+b+c\n",
    "print(d)"
   ]
  },
  {
   "cell_type": "code",
   "execution_count": 2,
   "id": "38080699",
   "metadata": {},
   "outputs": [
    {
     "name": "stdout",
     "output_type": "stream",
     "text": [
      "Enter value of a4\n",
      "Enter value of b8\n",
      "Enter value of c8\n",
      "20\n"
     ]
    }
   ],
   "source": [
    "# To convert the input value \n",
    "a=int(input(\"Enter value of a\"))\n",
    "b=int(input(\"Enter value of b\"))\n",
    "c=int(input(\"Enter value of c\"))\n",
    "print(a+b+c)\n"
   ]
  },
  {
   "cell_type": "code",
   "execution_count": 4,
   "id": "1841d41a",
   "metadata": {},
   "outputs": [
    {
     "name": "stdout",
     "output_type": "stream",
     "text": [
      "Enter your Salary200000\n",
      "You are working moderately\n"
     ]
    }
   ],
   "source": [
    "# Conditional Statement in Python\n",
    "salary = int(input(\"Enter your Salary\"))\n",
    "if salary<=70000:\n",
    "    print(\"You Really need to work hard\")\n",
    "elif salary>=100000:\n",
    "    print(\"You are working moderately\")\n",
    "elif salary >=200000:\n",
    "    print(\"You are doing really Well\")\n",
    "else:\n",
    "    print(\"Start Earning Money\")\n",
    "    "
   ]
  },
  {
   "cell_type": "code",
   "execution_count": 6,
   "id": "ef9ea03d",
   "metadata": {},
   "outputs": [
    {
     "name": "stdout",
     "output_type": "stream",
     "text": [
      "Enter the value of A8\n",
      "8\n",
      "7\n",
      "6\n",
      "5\n",
      "4\n",
      "3\n",
      "2\n",
      "1\n"
     ]
    }
   ],
   "source": [
    "# Loops In python\n",
    "a = int(input(\"Enter the value of A\"))\n",
    "while a>0:\n",
    "    print(a)\n",
    "    a= a-1\n"
   ]
  },
  {
   "cell_type": "code",
   "execution_count": 7,
   "id": "328f8049",
   "metadata": {},
   "outputs": [
    {
     "name": "stdout",
     "output_type": "stream",
     "text": [
      "You can still increase the speed\n",
      "You can still increase the speed\n",
      "You can still increase the speed\n",
      "You can still increase the speed\n",
      "You can still increase the speed\n",
      "You can still increase the speed\n",
      "You can still increase the speed\n",
      "You can still increase the speed\n",
      "You can still increase the speed\n",
      "You can still increase the speed\n"
     ]
    }
   ],
   "source": [
    "# In python we dont have the concept of Curly Braces \n",
    "in_speed=100\n",
    "fi_speed=200\n",
    "while in_speed < fi_speed:\n",
    "    print(\"You can still increase the speed\")\n",
    "    in_speed = in_speed+10"
   ]
  },
  {
   "cell_type": "code",
   "execution_count": 17,
   "id": "6ad2afb6",
   "metadata": {},
   "outputs": [
    {
     "name": "stdout",
     "output_type": "stream",
     "text": [
      "You can still increase your speed\n",
      "10\n",
      "You can still increase your speed\n",
      "20\n",
      "You can still increase your speed\n",
      "30\n",
      "You can still increase your speed\n",
      "40\n",
      "You can still increase your speed\n",
      "50\n",
      "You can still increase your speed\n",
      "60\n",
      "You can still increase your speed\n",
      "70\n",
      "You can still increase your speed\n",
      "80\n",
      "You can still increase your speed\n",
      "90\n",
      "You can still increase your speed\n",
      "After break what is your speed 100\n"
     ]
    }
   ],
   "source": [
    "# Break statement in python \n",
    "intial_speed=0\n",
    "final_speed=100\n",
    "while intial_speed<=final_speed:\n",
    "    print(\"You can still increase your speed\")\n",
    "    intial_speed= intial_speed+10\n",
    "    if(intial_speed == 100):\n",
    "        break   \n",
    "    print(intial_speed)\n",
    "print('After break what is your speed',intial_speed)\n",
    "    \n",
    "        \n",
    "    "
   ]
  },
  {
   "cell_type": "code",
   "execution_count": 18,
   "id": "10d77d90",
   "metadata": {},
   "outputs": [
    {
     "name": "stdout",
     "output_type": "stream",
     "text": [
      "We have 5 rupees note\n",
      "We have 5 rupees note\n",
      "We have 5 rupees note\n",
      "We have 5 rupees note\n",
      "All 5 Rupee notes are over\n"
     ]
    }
   ],
   "source": [
    "# In Python we can use else statement with whyle loop\n",
    "note =5\n",
    "i=1\n",
    "while(i<5):\n",
    "    print(\"We have 5 rupees note\")\n",
    "    i=i+1\n",
    "else:\n",
    "    print(\"All 5 Rupee notes are over\")"
   ]
  },
  {
   "cell_type": "code",
   "execution_count": 20,
   "id": "03ee3528",
   "metadata": {},
   "outputs": [
    {
     "name": "stdout",
     "output_type": "stream",
     "text": [
      "e\n",
      " Na\n",
      " aei\n"
     ]
    }
   ],
   "source": [
    "# String in python\n",
    "# In python we store all sort of string in the form of arry so basically we can perform all arrya operation in string\n",
    "s=\"Anish\"\n",
    "k=\"My Name is Anish\"\n",
    "# To print any paticular character\n",
    "print(k[6])\n",
    "# Print a paticular ange of character\n",
    "print(k[2:5])\n",
    "#print by escaping the character\n",
    "print(k[2:9:2])\n"
   ]
  },
  {
   "cell_type": "code",
   "execution_count": 23,
   "id": "0e953ddb",
   "metadata": {},
   "outputs": [
    {
     "name": "stdout",
     "output_type": "stream",
     "text": [
      "llomynameisani\n"
     ]
    }
   ],
   "source": [
    "# In python we have a provision of reverse indexing\n",
    "k=\"Hellomynameisanish\"\n",
    "print(k[2:-2])"
   ]
  },
  {
   "cell_type": "code",
   "execution_count": 26,
   "id": "24a9b673",
   "metadata": {},
   "outputs": [
    {
     "name": "stdout",
     "output_type": "stream",
     "text": [
      "hsinasiemanymolleH\n",
      "hsinasiemanymol\n",
      "hiaimnmle\n"
     ]
    }
   ],
   "source": [
    "# Reverse Odering helps to reverse any string just by changing the index\n",
    "k=\"Hellomynameisanish\"\n",
    "print(k[::-1])\n",
    "#escaping Character in python\n",
    "print(k[:2:-1])\n",
    "#Printing by escaping the character\n",
    "print(k[::-2])"
   ]
  },
  {
   "cell_type": "code",
   "execution_count": 1,
   "id": "a787f509",
   "metadata": {},
   "outputs": [
    {
     "name": "stdout",
     "output_type": "stream",
     "text": [
      "Character not present\n",
      "Character not present\n",
      "Character not present\n",
      "Character not present\n",
      "Character not present\n",
      "Character not present\n",
      "Found the Character\n",
      "Character not present\n",
      "Character not present\n",
      "Character not present\n",
      "Character not present\n",
      "Character not present\n",
      "Found the Character\n",
      "Character not present\n",
      "Character not present\n",
      "Character not present\n",
      "Character not present\n",
      "Character not present\n",
      "Character not present\n",
      "Character not present\n",
      "Character not present\n",
      "Character not present\n",
      "Character not present\n",
      "Character not present\n",
      "Character not present\n",
      "Character not present\n",
      "Character not present\n",
      "Character not present\n",
      "Character not present\n",
      "Character not present\n",
      "Character not present\n",
      "Character not present\n",
      "Found the Character\n",
      "Character not present\n",
      "Character not present\n",
      "Character not present\n",
      "Character not present\n",
      "Character not present\n",
      "Character not present\n",
      "Character not present\n",
      "Character not present\n",
      "Character not present\n",
      "Character not present\n",
      "Character not present\n",
      "Character not present\n",
      "Character not present\n",
      "Character not present\n",
      "Character not present\n",
      "Character not present\n",
      "Character not present\n",
      "Character not present\n",
      "Character not present\n",
      "Character not present\n",
      "Character not present\n",
      "Character not present\n"
     ]
    }
   ],
   "source": [
    "k=\"Hello my name is Anish and I am working in Accenture\"\n",
    "for i in k:\n",
    "    if(i=='m'):\n",
    "        print('Found the Character')\n",
    "    print(\"Character not present\")"
   ]
  },
  {
   "cell_type": "code",
   "execution_count": 3,
   "id": "a3d39e98",
   "metadata": {},
   "outputs": [
    {
     "name": "stdout",
     "output_type": "stream",
     "text": [
      "Character Does not exist\n"
     ]
    }
   ],
   "source": [
    "#break in Puython\n",
    "k=\"GoodMorningIndia\"\n",
    "for i in k:\n",
    "    if i==\"z\":\n",
    "        print(i)\n",
    "        break\n",
    "else:\n",
    "    print(\"Character Does not exist\")"
   ]
  },
  {
   "cell_type": "code",
   "execution_count": 5,
   "id": "22de430e",
   "metadata": {},
   "outputs": [
    {
     "name": "stdout",
     "output_type": "stream",
     "text": [
      "G\n",
      "o\n",
      "o\n",
      "d\n",
      "M\n",
      "o\n",
      "r\n",
      "n\n",
      "i\n",
      "n\n",
      "I\n",
      "n\n",
      "d\n",
      "i\n",
      "a\n"
     ]
    }
   ],
   "source": [
    "#Continue in Python\n",
    "k=\"GoodMorningIndia\"\n",
    "for i in k:\n",
    "    if i!=\"g\":\n",
    "        print(i)\n",
    "        continue"
   ]
  },
  {
   "cell_type": "code",
   "execution_count": 6,
   "id": "c68eafb9",
   "metadata": {},
   "outputs": [
    {
     "name": "stdout",
     "output_type": "stream",
     "text": [
      "0\n",
      "1\n",
      "2\n",
      "3\n",
      "4\n",
      "5\n",
      "7\n",
      "8\n",
      "9\n",
      "10\n",
      "11\n",
      "12\n",
      "13\n",
      "14\n",
      "15\n",
      "16\n",
      "17\n",
      "18\n",
      "19\n",
      "20\n",
      "21\n",
      "22\n",
      "23\n",
      "24\n",
      "25\n",
      "26\n",
      "27\n",
      "28\n",
      "29\n",
      "30\n",
      "31\n",
      "32\n",
      "33\n",
      "34\n",
      "35\n",
      "36\n",
      "Value does not exist\n"
     ]
    }
   ],
   "source": [
    "#len operation in python\n",
    "k=\"sdfghjkfghjklhjgkjlkgfjghljkufyguiuoi\"\n",
    "for i in range(len(k)):\n",
    "    if i==6:\n",
    "        continue\n",
    "    print(i)\n",
    "else:\n",
    "    print('Value does not exist')"
   ]
  },
  {
   "cell_type": "code",
   "execution_count": 8,
   "id": "f47a31b9",
   "metadata": {},
   "outputs": [
    {
     "name": "stdout",
     "output_type": "stream",
     "text": [
      "Enter Value8\n",
      "+ \n",
      "+ + \n",
      "+ + + \n",
      "+ + + + \n",
      "+ + + + + \n",
      "+ + + + + + \n",
      "+ + + + + + + \n",
      "+ + + + + + + + \n"
     ]
    }
   ],
   "source": [
    "n=int(input('Enter Value'))\n",
    "for i in range(0,n):\n",
    "    for j in range(0,i+1):\n",
    "        print('+',end=' ')\n",
    "    print('\\r')"
   ]
  },
  {
   "cell_type": "code",
   "execution_count": 9,
   "id": "21a106c1",
   "metadata": {},
   "outputs": [
    {
     "data": {
      "text/plain": [
       "list"
      ]
     },
     "execution_count": 9,
     "metadata": {},
     "output_type": "execute_result"
    }
   ],
   "source": [
    "# list in python \n",
    "# list i python defines with square bracket, with []\n",
    "#In python list behave same as array\n",
    "# Way of declaring list\n",
    "#List can hold any values\n",
    "l=[] # Empty List\n",
    "m=list()\n",
    "l=[7,78,8,2,8,4,8,2,5]\n",
    "type(l)"
   ]
  },
  {
   "cell_type": "code",
   "execution_count": 10,
   "id": "2219e7b5",
   "metadata": {},
   "outputs": [
    {
     "name": "stdout",
     "output_type": "stream",
     "text": [
      "Success\n"
     ]
    }
   ],
   "source": [
    "l=['s',8,'d',7,True]\n",
    "for i in l:\n",
    "    if i == True:\n",
    "        print('Success')"
   ]
  },
  {
   "cell_type": "code",
   "execution_count": 15,
   "id": "d254c137",
   "metadata": {},
   "outputs": [
    {
     "name": "stdout",
     "output_type": "stream",
     "text": [
      "[1, 2, 3, 4, 5, 6, 7, 8, 9]\n"
     ]
    }
   ],
   "source": [
    "#List concatination\n",
    "l[::]\n",
    "#Reversing List\n",
    "l[::-1]\n",
    "#Skiipping character\n",
    "l[::-2]\n",
    "#list with range()\n",
    "l=list(range(1,10))\n",
    "print(l)"
   ]
  },
  {
   "cell_type": "code",
   "execution_count": 18,
   "id": "7622bfc1",
   "metadata": {},
   "outputs": [
    {
     "data": {
      "text/plain": [
       "16"
      ]
     },
     "execution_count": 18,
     "metadata": {},
     "output_type": "execute_result"
    }
   ],
   "source": [
    "#find() and count() operation is String\n",
    "st=\"dfgf dfgfd asda eer sd hrt ser hhh terte ere\"\n",
    "st.count('eer')\n",
    "st.find('eer')\n",
    "\n"
   ]
  },
  {
   "cell_type": "code",
   "execution_count": 20,
   "id": "f546c3d9",
   "metadata": {},
   "outputs": [
    {
     "name": "stdout",
     "output_type": "stream",
     "text": [
      "True\n"
     ]
    }
   ],
   "source": [
    "if st.find('eer'):\n",
    "    print(True)\n",
    "else:\n",
    "    print(False)"
   ]
  },
  {
   "cell_type": "code",
   "execution_count": 22,
   "id": "c2228c0b",
   "metadata": {},
   "outputs": [
    {
     "data": {
      "text/plain": [
       "['dfgf', 'dfgfd', 'asda', 'eer', 'sd', 'hrt', 'ser', 'hhh', 'terte', 'ere']"
      ]
     },
     "execution_count": 22,
     "metadata": {},
     "output_type": "execute_result"
    }
   ],
   "source": [
    "# split operating on string\n",
    "#split split string ans store in list\n",
    "st.split()"
   ]
  },
  {
   "cell_type": "code",
   "execution_count": 23,
   "id": "dc5ef488",
   "metadata": {},
   "outputs": [
    {
     "data": {
      "text/plain": [
       "'DFGF DFGFD ASDA EER SD HRT SER HHH TERTE ERE'"
      ]
     },
     "execution_count": 23,
     "metadata": {},
     "output_type": "execute_result"
    }
   ],
   "source": [
    "# upper and lower case() method in string\n",
    "st.upper()"
   ]
  },
  {
   "cell_type": "code",
   "execution_count": 24,
   "id": "e1535c75",
   "metadata": {},
   "outputs": [
    {
     "data": {
      "text/plain": [
       "'dfgf dfgfd asda eer sd hrt ser hhh terte ere'"
      ]
     },
     "execution_count": 24,
     "metadata": {},
     "output_type": "execute_result"
    }
   ],
   "source": [
    "st.lower()"
   ]
  },
  {
   "cell_type": "code",
   "execution_count": 27,
   "id": "4054f1f8",
   "metadata": {},
   "outputs": [
    {
     "name": "stdout",
     "output_type": "stream",
     "text": [
      "<reversed object at 0x0000016CBD96EEB0>\n"
     ]
    }
   ],
   "source": [
    "#reversi operation on string\n",
    "streverse = reversed(st)\n",
    "print(streverse)"
   ]
  },
  {
   "cell_type": "code",
   "execution_count": 28,
   "id": "0cfc7092",
   "metadata": {},
   "outputs": [
    {
     "name": "stdout",
     "output_type": "stream",
     "text": [
      "dfgf dfgfd asda eer sd hrt ser hhh terte ere\n"
     ]
    }
   ],
   "source": [
    "# Strin operation in python remove spaces\n",
    "print(st.strip())"
   ]
  },
  {
   "cell_type": "code",
   "execution_count": 29,
   "id": "8534c8b9",
   "metadata": {},
   "outputs": [
    {
     "data": {
      "text/plain": [
       "'dfgf dfgfd ZsdZ eer sd hrt ser hhh terte ere'"
      ]
     },
     "execution_count": 29,
     "metadata": {},
     "output_type": "execute_result"
    }
   ],
   "source": [
    "#replace operation in python\n",
    "st.replace('a','Z')"
   ]
  },
  {
   "cell_type": "code",
   "execution_count": 30,
   "id": "7c6ef7d0",
   "metadata": {},
   "outputs": [
    {
     "data": {
      "text/plain": [
       "True"
      ]
     },
     "execution_count": 30,
     "metadata": {},
     "output_type": "execute_result"
    }
   ],
   "source": [
    "#islower() and isupper()in string in python\n",
    "st.isupper()\n",
    "st.islower()"
   ]
  },
  {
   "cell_type": "code",
   "execution_count": 31,
   "id": "f87b3a89",
   "metadata": {},
   "outputs": [
    {
     "data": {
      "text/plain": [
       "False"
      ]
     },
     "execution_count": 31,
     "metadata": {},
     "output_type": "execute_result"
    }
   ],
   "source": [
    "# startwith() and endswith()\n",
    "st.startswith('a')"
   ]
  },
  {
   "cell_type": "code",
   "execution_count": 32,
   "id": "9745c84f",
   "metadata": {},
   "outputs": [
    {
     "data": {
      "text/plain": [
       "False"
      ]
     },
     "execution_count": 32,
     "metadata": {},
     "output_type": "execute_result"
    }
   ],
   "source": [
    "st.endswith('b')"
   ]
  },
  {
   "cell_type": "code",
   "execution_count": 35,
   "id": "858ed8fc",
   "metadata": {},
   "outputs": [
    {
     "name": "stdout",
     "output_type": "stream",
     "text": [
      "44\n"
     ]
    }
   ],
   "source": [
    "# operation on list\n",
    "#max() operation in list\n",
    "l1=[1,2,3,44,4,5,6,7,6]\n",
    "print(max(l1))"
   ]
  },
  {
   "cell_type": "code",
   "execution_count": 36,
   "id": "1aac1f80",
   "metadata": {},
   "outputs": [
    {
     "name": "stdout",
     "output_type": "stream",
     "text": [
      "1\n"
     ]
    }
   ],
   "source": [
    "#min operation in python\n",
    "print(min(l1))"
   ]
  },
  {
   "cell_type": "code",
   "execution_count": 37,
   "id": "b5198d86",
   "metadata": {},
   "outputs": [
    {
     "data": {
      "text/plain": [
       "[1, 2, 3, 44, 4, 5, 6, 7, 6, 'anish']"
      ]
     },
     "execution_count": 37,
     "metadata": {},
     "output_type": "execute_result"
    }
   ],
   "source": [
    "#append , it insert at the last\n",
    "l1.append('anish')\n",
    "l1"
   ]
  },
  {
   "cell_type": "code",
   "execution_count": 40,
   "id": "cf9fee06",
   "metadata": {},
   "outputs": [
    {
     "data": {
      "text/plain": [
       "[1, 2, 3, 44, 4, 5, 6, 7, 6, 'anish', 'kumar', 'kumar']"
      ]
     },
     "execution_count": 40,
     "metadata": {},
     "output_type": "execute_result"
    }
   ],
   "source": [
    "#insert it can insert at any position\n",
    "l1.insert(12,'kumar')\n",
    "l1"
   ]
  },
  {
   "cell_type": "code",
   "execution_count": 41,
   "id": "38b76478",
   "metadata": {},
   "outputs": [
    {
     "data": {
      "text/plain": [
       "2"
      ]
     },
     "execution_count": 41,
     "metadata": {},
     "output_type": "execute_result"
    }
   ],
   "source": [
    "#count()\n",
    "l1.count('kumar')"
   ]
  },
  {
   "cell_type": "code",
   "execution_count": 43,
   "id": "42d7ee74",
   "metadata": {},
   "outputs": [
    {
     "data": {
      "text/plain": [
       "[1, 2, 3, 44, 4, 5, 6, 7, 6, 'anish', 'kumar', 'kumar', [...], [...]]"
      ]
     },
     "execution_count": 43,
     "metadata": {},
     "output_type": "execute_result"
    }
   ],
   "source": [
    "#append operation in list will append one list to another\n",
    "l1.append(l1)\n",
    "l1"
   ]
  },
  {
   "cell_type": "code",
   "execution_count": 45,
   "id": "d79976b6",
   "metadata": {},
   "outputs": [
    {
     "data": {
      "text/plain": [
       "2"
      ]
     },
     "execution_count": 45,
     "metadata": {},
     "output_type": "execute_result"
    }
   ],
   "source": [
    "#index operation in list\n",
    "l1.index(3)"
   ]
  },
  {
   "cell_type": "code",
   "execution_count": 46,
   "id": "49a10101",
   "metadata": {},
   "outputs": [
    {
     "data": {
      "text/plain": [
       "44"
      ]
     },
     "execution_count": 46,
     "metadata": {},
     "output_type": "execute_result"
    }
   ],
   "source": [
    "#pop operation in list\n",
    "l1.pop(3)"
   ]
  },
  {
   "cell_type": "code",
   "execution_count": 47,
   "id": "1edb245c",
   "metadata": {},
   "outputs": [
    {
     "data": {
      "text/plain": [
       "[1, 2, 3, 4, 5, 6, 7, 6, 'anish', 'kumar', 'kumar', [...], [...]]"
      ]
     },
     "execution_count": 47,
     "metadata": {},
     "output_type": "execute_result"
    }
   ],
   "source": [
    "l1"
   ]
  },
  {
   "cell_type": "code",
   "execution_count": 49,
   "id": "8834fe4e",
   "metadata": {},
   "outputs": [
    {
     "data": {
      "text/plain": [
       "[1, 2, 3, 4, 5, 6, 7, 6, 'anish', [...], [...]]"
      ]
     },
     "execution_count": 49,
     "metadata": {},
     "output_type": "execute_result"
    }
   ],
   "source": [
    "#remove operation in python\n",
    "l1.remove('kumar')\n",
    "l1"
   ]
  },
  {
   "cell_type": "code",
   "execution_count": 51,
   "id": "d057f8b2",
   "metadata": {},
   "outputs": [
    {
     "data": {
      "text/plain": [
       "[1, 2, 3, 4, 5, 6, 7, 8, 9]"
      ]
     },
     "execution_count": 51,
     "metadata": {},
     "output_type": "execute_result"
    }
   ],
   "source": [
    "#sort operation in list\n",
    "l2=[9,8,7,6,5,4,3,2,1]\n",
    "l2.sort()\n",
    "l2"
   ]
  },
  {
   "cell_type": "code",
   "execution_count": 52,
   "id": "0096df3f",
   "metadata": {},
   "outputs": [
    {
     "data": {
      "text/plain": [
       "['A',\n",
       " 'N',\n",
       " 'i',\n",
       " 'h',\n",
       " 's',\n",
       " ' ',\n",
       " 'K',\n",
       " 'u',\n",
       " 'm',\n",
       " 'a',\n",
       " 'r',\n",
       " ' ',\n",
       " 's',\n",
       " 'i',\n",
       " 'n',\n",
       " 'g',\n",
       " 'h']"
      ]
     },
     "execution_count": 52,
     "metadata": {},
     "output_type": "execute_result"
    }
   ],
   "source": [
    "#Comprehensation in python\n",
    "[i for i in \"ANihs Kumar singh\"]"
   ]
  },
  {
   "cell_type": "code",
   "execution_count": 55,
   "id": "22077de0",
   "metadata": {},
   "outputs": [
    {
     "data": {
      "text/plain": [
       "['even', 'odd', 'even', 'odd', 'even', 'odd', 'even', 'odd', 'even', 'odd']"
      ]
     },
     "execution_count": 55,
     "metadata": {},
     "output_type": "execute_result"
    }
   ],
   "source": [
    "['odd' if i%2 !=0 else \"even\" for i in range(10)]"
   ]
  },
  {
   "cell_type": "code",
   "execution_count": 60,
   "id": "bc7bd154",
   "metadata": {},
   "outputs": [
    {
     "data": {
      "text/plain": [
       "tuple"
      ]
     },
     "execution_count": 60,
     "metadata": {},
     "output_type": "execute_result"
    }
   ],
   "source": [
    "# Tuples\n",
    "#Tuples are immutable\n",
    "t = ()\n",
    "type(t)"
   ]
  },
  {
   "cell_type": "code",
   "execution_count": 61,
   "id": "e9238889",
   "metadata": {},
   "outputs": [
    {
     "ename": "TypeError",
     "evalue": "'tuple' object does not support item assignment",
     "output_type": "error",
     "traceback": [
      "\u001b[1;31m---------------------------------------------------------------------------\u001b[0m",
      "\u001b[1;31mTypeError\u001b[0m                                 Traceback (most recent call last)",
      "\u001b[1;32m~\\AppData\\Local\\Temp/ipykernel_7964/2838880984.py\u001b[0m in \u001b[0;36m<module>\u001b[1;34m\u001b[0m\n\u001b[0;32m      1\u001b[0m \u001b[0mt\u001b[0m\u001b[1;33m=\u001b[0m\u001b[1;33m(\u001b[0m\u001b[1;36m1\u001b[0m\u001b[1;33m,\u001b[0m\u001b[1;36m2\u001b[0m\u001b[1;33m,\u001b[0m\u001b[1;36m3\u001b[0m\u001b[1;33m,\u001b[0m\u001b[1;36m4\u001b[0m\u001b[1;33m,\u001b[0m\u001b[1;36m5\u001b[0m\u001b[1;33m)\u001b[0m\u001b[1;33m\u001b[0m\u001b[1;33m\u001b[0m\u001b[0m\n\u001b[1;32m----> 2\u001b[1;33m \u001b[0mt\u001b[0m\u001b[1;33m[\u001b[0m\u001b[1;36m4\u001b[0m\u001b[1;33m]\u001b[0m\u001b[1;33m=\u001b[0m\u001b[1;34m'anish'\u001b[0m\u001b[1;33m\u001b[0m\u001b[1;33m\u001b[0m\u001b[0m\n\u001b[0m",
      "\u001b[1;31mTypeError\u001b[0m: 'tuple' object does not support item assignment"
     ]
    }
   ],
   "source": [
    "t=(1,2,3,4,5)\n",
    "t[4]='anish'"
   ]
  },
  {
   "cell_type": "code",
   "execution_count": 62,
   "id": "556fa254",
   "metadata": {},
   "outputs": [
    {
     "data": {
      "text/plain": [
       "(1, 2, 3, 4, 5, 1, 2, 3, 4, 5)"
      ]
     },
     "execution_count": 62,
     "metadata": {},
     "output_type": "execute_result"
    }
   ],
   "source": [
    "#Append operation on tuples\n",
    "t+t"
   ]
  },
  {
   "cell_type": "code",
   "execution_count": 63,
   "id": "bc2ca270",
   "metadata": {},
   "outputs": [
    {
     "data": {
      "text/plain": [
       "(1, 2, 3, 4, 5, 1, 2, 3, 4, 5, 1, 2, 3, 4, 5)"
      ]
     },
     "execution_count": 63,
     "metadata": {},
     "output_type": "execute_result"
    }
   ],
   "source": [
    "#Multiplication operation on tuples\n",
    "t*3"
   ]
  },
  {
   "cell_type": "code",
   "execution_count": 64,
   "id": "e712de68",
   "metadata": {},
   "outputs": [
    {
     "data": {
      "text/plain": [
       "True"
      ]
     },
     "execution_count": 64,
     "metadata": {},
     "output_type": "execute_result"
    }
   ],
   "source": [
    "# to check anything in tuple\n",
    "2 in t"
   ]
  },
  {
   "cell_type": "code",
   "execution_count": 65,
   "id": "5f5c7848",
   "metadata": {},
   "outputs": [
    {
     "data": {
      "text/plain": [
       "5"
      ]
     },
     "execution_count": 65,
     "metadata": {},
     "output_type": "execute_result"
    }
   ],
   "source": [
    "#max() operation on tuples\n",
    "max(t)"
   ]
  },
  {
   "cell_type": "code",
   "execution_count": 67,
   "id": "bbc8dc1b",
   "metadata": {},
   "outputs": [
    {
     "data": {
      "text/plain": [
       "1"
      ]
     },
     "execution_count": 67,
     "metadata": {},
     "output_type": "execute_result"
    }
   ],
   "source": [
    "#index operation on tuples\n",
    "t.index(2)"
   ]
  },
  {
   "cell_type": "code",
   "execution_count": 69,
   "id": "a04ccc14",
   "metadata": {},
   "outputs": [
    {
     "data": {
      "text/plain": [
       "1"
      ]
     },
     "execution_count": 69,
     "metadata": {},
     "output_type": "execute_result"
    }
   ],
   "source": [
    "t.count(2)"
   ]
  },
  {
   "cell_type": "code",
   "execution_count": 72,
   "id": "c98eee4a",
   "metadata": {},
   "outputs": [
    {
     "data": {
      "text/plain": [
       "(2, 3)"
      ]
     },
     "execution_count": 72,
     "metadata": {},
     "output_type": "execute_result"
    }
   ],
   "source": [
    "#append operation on tuples\n",
    "# append operation wont work on tuple so we have the following workaround\n",
    "l2 = list()\n",
    "l2.append(2)\n",
    "l2.append(3)\n",
    "tuple(l2)"
   ]
  },
  {
   "cell_type": "code",
   "execution_count": 73,
   "id": "1bf99ca0",
   "metadata": {},
   "outputs": [
    {
     "data": {
      "text/plain": [
       "3"
      ]
     },
     "execution_count": 73,
     "metadata": {},
     "output_type": "execute_result"
    }
   ],
   "source": [
    "#Data slicing operation on tuple\n",
    "t[2]"
   ]
  },
  {
   "cell_type": "code",
   "execution_count": 74,
   "id": "b8e4956b",
   "metadata": {},
   "outputs": [],
   "source": [
    "#Set collection in python\n",
    "#Set contains only unique value\n",
    "l=[1,2,3,4,5,6,7,8,9]\n",
    "s = set(l)"
   ]
  },
  {
   "cell_type": "code",
   "execution_count": 75,
   "id": "e4e0a980",
   "metadata": {},
   "outputs": [
    {
     "name": "stdout",
     "output_type": "stream",
     "text": [
      "1\n",
      "2\n",
      "3\n",
      "4\n",
      "5\n",
      "6\n",
      "7\n",
      "8\n",
      "9\n"
     ]
    }
   ],
   "source": [
    "#Iteration over \n",
    "for i in s:\n",
    "    print(i)"
   ]
  },
  {
   "cell_type": "code",
   "execution_count": 80,
   "id": "2163d2c8",
   "metadata": {},
   "outputs": [
    {
     "data": {
      "text/plain": [
       "{1, 2, 3, 5, 44, 444}"
      ]
     },
     "execution_count": 80,
     "metadata": {},
     "output_type": "execute_result"
    }
   ],
   "source": [
    "#add() function over set\n",
    "#Set automatically sort everything in ascending order\n",
    "s={1,2,3,44,5}\n",
    "s.add(5)\n",
    "s.add(444)\n",
    "s"
   ]
  },
  {
   "cell_type": "code",
   "execution_count": 83,
   "id": "7220d42c",
   "metadata": {},
   "outputs": [
    {
     "data": {
      "text/plain": [
       "{1, 5, 44, 444}"
      ]
     },
     "execution_count": 83,
     "metadata": {},
     "output_type": "execute_result"
    }
   ],
   "source": [
    "#remove operation on set\n",
    "s.remove(3)\n",
    "s"
   ]
  },
  {
   "cell_type": "code",
   "execution_count": 84,
   "id": "223e019f",
   "metadata": {},
   "outputs": [
    {
     "data": {
      "text/plain": [
       "dict"
      ]
     },
     "execution_count": 84,
     "metadata": {},
     "output_type": "execute_result"
    }
   ],
   "source": [
    "#Clear operation on set\n",
    "#By default curly braces represent dictionary\n",
    "s={}\n",
    "type(s)"
   ]
  },
  {
   "cell_type": "code",
   "execution_count": 85,
   "id": "4abb51bf",
   "metadata": {},
   "outputs": [],
   "source": [
    "# Array dont exist in core python\n",
    "#List --> Mutable in Nature\n",
    "#Tuple --> Immutable entity\n",
    "#Set -->Only hold unique Value\n",
    "#Dictionary -- Stores Value in key-value in pair"
   ]
  },
  {
   "cell_type": "code",
   "execution_count": 87,
   "id": "62f1c4f0",
   "metadata": {},
   "outputs": [
    {
     "data": {
      "text/plain": [
       "{'a': 1, 'b': 2, 'c': 3, 'd': 4}"
      ]
     },
     "execution_count": 87,
     "metadata": {},
     "output_type": "execute_result"
    }
   ],
   "source": [
    "dic ={'a':1,'b':2,'c':3,'d':4}\n",
    "dic"
   ]
  },
  {
   "cell_type": "code",
   "execution_count": 88,
   "id": "3503d3b7",
   "metadata": {},
   "outputs": [
    {
     "name": "stdout",
     "output_type": "stream",
     "text": [
      "a\n",
      "b\n",
      "c\n",
      "d\n"
     ]
    }
   ],
   "source": [
    "for i in dic:\n",
    "    print(i)# by default it print Key"
   ]
  },
  {
   "cell_type": "code",
   "execution_count": null,
   "id": "239d7776",
   "metadata": {},
   "outputs": [],
   "source": []
  }
 ],
 "metadata": {
  "kernelspec": {
   "display_name": "Python 3 (ipykernel)",
   "language": "python",
   "name": "python3"
  },
  "language_info": {
   "codemirror_mode": {
    "name": "ipython",
    "version": 3
   },
   "file_extension": ".py",
   "mimetype": "text/x-python",
   "name": "python",
   "nbconvert_exporter": "python",
   "pygments_lexer": "ipython3",
   "version": "3.9.7"
  }
 },
 "nbformat": 4,
 "nbformat_minor": 5
}
