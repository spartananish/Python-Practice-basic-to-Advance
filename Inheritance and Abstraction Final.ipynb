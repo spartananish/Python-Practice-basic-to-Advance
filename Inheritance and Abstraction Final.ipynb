{
 "cells": [
  {
   "cell_type": "code",
   "execution_count": 1,
   "id": "821e5f6b",
   "metadata": {},
   "outputs": [],
   "source": [
    "#Abstraction in python\n",
    "# In python we dont have access modifier like public,private and protected insted of that we have underscore\n",
    "#No underscore means its a public variable\n",
    "#Dounble __ means its a private variable"
   ]
  },
  {
   "cell_type": "code",
   "execution_count": 6,
   "id": "9a74b027",
   "metadata": {},
   "outputs": [],
   "source": [
    "class Test:\n",
    "    def __init__(self,a,b,c,d):\n",
    "        self.a = a # Public\n",
    "        self.__b =b # Private\n",
    "        self.c=c # Public\n",
    "        self.d=d # Public\n",
    "    def subtract(self,v):\n",
    "        print(v-self.a)\n",
    "        print(v-self.b)\n",
    "        print(v-self.c)\n",
    "        print(v-self.d)\n",
    "        "
   ]
  },
  {
   "cell_type": "code",
   "execution_count": 7,
   "id": "b0212c0a",
   "metadata": {},
   "outputs": [],
   "source": [
    "d = Test(2,3,4,5)"
   ]
  },
  {
   "cell_type": "code",
   "execution_count": 8,
   "id": "4b631a0d",
   "metadata": {},
   "outputs": [
    {
     "name": "stdout",
     "output_type": "stream",
     "text": [
      "2\n"
     ]
    }
   ],
   "source": [
    "print(d.a) #We are able to acess because its a public Variable\n"
   ]
  },
  {
   "cell_type": "code",
   "execution_count": 10,
   "id": "b997b839",
   "metadata": {},
   "outputs": [
    {
     "ename": "AttributeError",
     "evalue": "'Test' object has no attribute '__b'",
     "output_type": "error",
     "traceback": [
      "\u001b[1;31m---------------------------------------------------------------------------\u001b[0m",
      "\u001b[1;31mAttributeError\u001b[0m                            Traceback (most recent call last)",
      "\u001b[1;32m~\\AppData\\Local\\Temp/ipykernel_9168/3215039403.py\u001b[0m in \u001b[0;36m<module>\u001b[1;34m\u001b[0m\n\u001b[1;32m----> 1\u001b[1;33m \u001b[0mprint\u001b[0m\u001b[1;33m(\u001b[0m\u001b[0md\u001b[0m\u001b[1;33m.\u001b[0m\u001b[0m__b\u001b[0m\u001b[1;33m)\u001b[0m\u001b[1;33m\u001b[0m\u001b[1;33m\u001b[0m\u001b[0m\n\u001b[0m",
      "\u001b[1;31mAttributeError\u001b[0m: 'Test' object has no attribute '__b'"
     ]
    }
   ],
   "source": [
    "print(d.__b) # We are not able to access because its a private variable"
   ]
  },
  {
   "cell_type": "code",
   "execution_count": 12,
   "id": "606cf67c",
   "metadata": {},
   "outputs": [],
   "source": [
    "# Python Inhertiance\n",
    "# In python to make inheritance we have to just pass class name as variable\n",
    "class Test1(Test): # Here Test is acting as a Parent class where as Tes1 is child class\n",
    "    def __init__(self,j,*args):\n",
    "        super(Test1,self).__init__(*args) # Here super is used in order to call parent properties,we pass child class so it can inherit parent properties\n",
    "#         super(Test1,self).__init__(*args)\n",
    "        self.j = j # j is child class variable\n",
    "    \n",
    "    "
   ]
  },
  {
   "cell_type": "code",
   "execution_count": 13,
   "id": "1340839b",
   "metadata": {},
   "outputs": [],
   "source": [
    "obj = Test1(1,2,3,4,5)"
   ]
  },
  {
   "cell_type": "code",
   "execution_count": 14,
   "id": "9bc57002",
   "metadata": {},
   "outputs": [
    {
     "data": {
      "text/plain": [
       "2"
      ]
     },
     "execution_count": 14,
     "metadata": {},
     "output_type": "execute_result"
    }
   ],
   "source": [
    "obj.a"
   ]
  },
  {
   "cell_type": "code",
   "execution_count": 15,
   "id": "1af15448",
   "metadata": {},
   "outputs": [],
   "source": [
    "class Test2:\n",
    "    def a(self):\n",
    "        print(\"Hi I am in Test2\")"
   ]
  },
  {
   "cell_type": "code",
   "execution_count": 16,
   "id": "dee65f43",
   "metadata": {},
   "outputs": [],
   "source": [
    "class Test3:\n",
    "    def b(self):\n",
    "        print(\"Hi I am in Test3\")"
   ]
  },
  {
   "cell_type": "code",
   "execution_count": 17,
   "id": "70a39fbb",
   "metadata": {},
   "outputs": [],
   "source": [
    "class child(Test2,Test3):\n",
    "    def c(self):\n",
    "        print(\"I am in child class\")"
   ]
  },
  {
   "cell_type": "code",
   "execution_count": 18,
   "id": "9cf7c54c",
   "metadata": {},
   "outputs": [],
   "source": [
    "childobj = child()"
   ]
  },
  {
   "cell_type": "code",
   "execution_count": 19,
   "id": "574611fa",
   "metadata": {},
   "outputs": [
    {
     "name": "stdout",
     "output_type": "stream",
     "text": [
      "Hi I am in Tes2\n"
     ]
    }
   ],
   "source": [
    "childobj.a()"
   ]
  },
  {
   "cell_type": "code",
   "execution_count": 20,
   "id": "06172c2d",
   "metadata": {},
   "outputs": [
    {
     "name": "stdout",
     "output_type": "stream",
     "text": [
      "Hi I am in Test3\n"
     ]
    }
   ],
   "source": [
    "childobj.b()"
   ]
  },
  {
   "cell_type": "code",
   "execution_count": 21,
   "id": "fd5d37cf",
   "metadata": {},
   "outputs": [
    {
     "name": "stdout",
     "output_type": "stream",
     "text": [
      "I am in child class\n"
     ]
    }
   ],
   "source": [
    "childobj.c()"
   ]
  },
  {
   "cell_type": "code",
   "execution_count": 43,
   "id": "8fdc91f4",
   "metadata": {},
   "outputs": [],
   "source": [
    "#Multi Level Inhertance\n",
    "class a:\n",
    "    def __init__(self,a,b,c):\n",
    "        self.a = a\n",
    "        self.b = b\n",
    "        self.c = c\n",
    "    def sum(self):\n",
    "        return self.a+self.b+self.c"
   ]
  },
  {
   "cell_type": "code",
   "execution_count": 44,
   "id": "e97b7776",
   "metadata": {},
   "outputs": [],
   "source": [
    "class b(a):\n",
    "    def __init__(self,x,y,z):\n",
    "        self.x = x\n",
    "        self.y = y\n",
    "        self.z = z\n",
    "    def multiply(self):\n",
    "        return self.x*self.y*self.z"
   ]
  },
  {
   "cell_type": "code",
   "execution_count": 45,
   "id": "299cf49d",
   "metadata": {},
   "outputs": [],
   "source": [
    "class c(b):\n",
    "    def __init__(self,x,y):\n",
    "        self.x = x\n",
    "        self.y = y\n",
    "    def subtract():\n",
    "        print(\"Subtracting value\")\n",
    "        return self.x-self.y\n",
    "    "
   ]
  },
  {
   "cell_type": "code",
   "execution_count": 46,
   "id": "29625540",
   "metadata": {},
   "outputs": [],
   "source": [
    "class finalChild(c):\n",
    "    def printf():\n",
    "        print(\"Calling every thing from child\")\n",
    "  \n",
    "        "
   ]
  },
  {
   "cell_type": "code",
   "execution_count": 48,
   "id": "56342f20",
   "metadata": {},
   "outputs": [],
   "source": [
    "obj = finalChild(2,3)"
   ]
  },
  {
   "cell_type": "code",
   "execution_count": 49,
   "id": "06d80aee",
   "metadata": {},
   "outputs": [],
   "source": [
    "obj2 = b(2,3,4)"
   ]
  },
  {
   "cell_type": "code",
   "execution_count": 51,
   "id": "e60a3167",
   "metadata": {},
   "outputs": [
    {
     "data": {
      "text/plain": [
       "24"
      ]
     },
     "execution_count": 51,
     "metadata": {},
     "output_type": "execute_result"
    }
   ],
   "source": [
    "obj2.multiply()"
   ]
  },
  {
   "cell_type": "code",
   "execution_count": 53,
   "id": "f25b116e",
   "metadata": {},
   "outputs": [
    {
     "name": "stdout",
     "output_type": "stream",
     "text": [
      "Fortunrer\n",
      "Branch TypeGoodWill\n",
      " Belted BiasBelted\n",
      " Tyre Pressure23\n",
      "Engine Type\tPetrolEntype Power103\n",
      "Body TypeNo Roll Over\n"
     ]
    }
   ],
   "source": [
    "# Example of abstraction, when ever we are trying to create class we are basically encapsulating\n",
    "class Tyre:\n",
    "    def __init__(self,branch,belted_bias,tyre_pressure):\n",
    "        self.branch = branch\n",
    "        self.belted_bias = belted_bias\n",
    "        self.tyre_pressure = tyre_pressure\n",
    "   \n",
    "    def __str__(self):\n",
    "        return ('Branch Type'+self.branch + \"\\n Belted Bias\" + self.belted_bias + \"\\n Tyre Pressure\" + str(self.tyre_pressure))\n",
    "\n",
    "class Engine:\n",
    "    def __init__(self,engine_type,engine_power):\n",
    "        self.engine_type = engine_type\n",
    "        self.engine_power = engine_power\n",
    "    \n",
    "    def __str__(self):\n",
    "        return ('Engine Type\\t' + self.engine_type + 'Entype Power' + str(self.engine_power))\n",
    "\n",
    "class Body:\n",
    "    def __init__(self,body_type):\n",
    "        self.body_type= body_type\n",
    "    def __str__(self):\n",
    "        return ('Body Type'+self.body_type)\n",
    "\n",
    "class Car:\n",
    "    def __init__(self,car,Tyre,engine,body):\n",
    "        self.car = car\n",
    "        self.Tyre = Tyre\n",
    "        self.engine = engine\n",
    "        self.body = body\n",
    "    def __str__(self):\n",
    "        return  str(self.car)+'\\n'+str(self.Tyre)+'\\n'+str(self.engine)+'\\n'+str(self.body)\n",
    "        \n",
    "    # Here we passing object which is getting called from class and calling all of its methosd. This is clasic example of encapsulation\n",
    "t = Tyre('GoodWill','Belted',23)\n",
    "e = Engine('Petrol',103)\n",
    "b = Body('No Roll Over')\n",
    "c = Car('Fortunrer',t,e,b)\n",
    "print(c)"
   ]
  },
  {
   "cell_type": "code",
   "execution_count": 54,
   "id": "0a8c5e51",
   "metadata": {},
   "outputs": [],
   "source": [
    "class increment:\n",
    "    def __init__(self,rating,empId):\n",
    "        self.empId = empId\n",
    "        self.rating = rating\n",
    "        self.__bonusRatingA ='80%'\n",
    "        self.__bonusRatingB ='70%'\n",
    "        self.__bonusRatingC ='60%'\n",
    "        self.__bonusRatingD ='50%'\n",
    "    def bonusCalculator(self):\n",
    "        if self.rating == 'A':\n",
    "            bonus = self.bonusRatingA\n",
    "            print(\"You got increment of\",bonus,+self.empId)\n",
    "        elif self.rating == 'B':\n",
    "            bonus = self.bonusRatingB\n",
    "            print(\"You got increment of\",bonus,self.empId)\n",
    "        elif self.rating == 'C':\n",
    "            bonus = self.bonusRatingC\n",
    "            print(\"You got increment of\",bonus,self.empId)\n",
    "        elif self.rating == 'D':\n",
    "            bonus = self.bonusRatingD\n",
    "            print(\"You got increment of\",bonus,self.empId)\n",
    "        else:\n",
    "            print('No increment')\n",
    "            \n",
    "            \n",
    "            # Way to modify variable outside the class, which is same as setter and getter method\n",
    "    def changeValue(self,newV):\n",
    "        self.bonusRatingA = newV\n",
    "            "
   ]
  },
  {
   "cell_type": "code",
   "execution_count": 67,
   "id": "0357ec79",
   "metadata": {},
   "outputs": [],
   "source": [
    "#Multi Level Inhertance\n",
    "class a:\n",
    "    def __init__(self,*args):\n",
    "        self.args = args\n",
    "    def sum(self):\n",
    "        return self.args[0]+self.args[1]+self.args[2]\n",
    "\n",
    "class b(a):\n",
    "    def __init__(self,*args):\n",
    "        self.args = args\n",
    "    def multiply(self):\n",
    "        return self.args[0]*self.args[1]\n",
    "\n",
    "class c(b):\n",
    "    def __init__(self,*args):\n",
    "        self.args = args\n",
    "    def subtract():\n",
    "        print(\"Subtracting value\")\n",
    "        return self.args[0]-self.args[1]\n",
    "\n",
    "class finalChild(c):\n",
    "    def printf():\n",
    "        print(\"Calling every thing from child\")\n",
    "    \n"
   ]
  },
  {
   "cell_type": "code",
   "execution_count": 69,
   "id": "043f21ce",
   "metadata": {},
   "outputs": [],
   "source": [
    "obj = finalChild(2,3,4)"
   ]
  },
  {
   "cell_type": "code",
   "execution_count": 70,
   "id": "81e0ef96",
   "metadata": {},
   "outputs": [
    {
     "data": {
      "text/plain": [
       "9"
      ]
     },
     "execution_count": 70,
     "metadata": {},
     "output_type": "execute_result"
    }
   ],
   "source": [
    "obj.sum()"
   ]
  },
  {
   "cell_type": "code",
   "execution_count": null,
   "id": "b6fff4b5",
   "metadata": {},
   "outputs": [],
   "source": []
  },
  {
   "cell_type": "code",
   "execution_count": null,
   "id": "24d88a13",
   "metadata": {},
   "outputs": [],
   "source": []
  }
 ],
 "metadata": {
  "kernelspec": {
   "display_name": "Python 3 (ipykernel)",
   "language": "python",
   "name": "python3"
  },
  "language_info": {
   "codemirror_mode": {
    "name": "ipython",
    "version": 3
   },
   "file_extension": ".py",
   "mimetype": "text/x-python",
   "name": "python",
   "nbconvert_exporter": "python",
   "pygments_lexer": "ipython3",
   "version": "3.9.7"
  }
 },
 "nbformat": 4,
 "nbformat_minor": 5
}
