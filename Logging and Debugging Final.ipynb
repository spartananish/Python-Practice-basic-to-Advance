{
 "cells": [
  {
   "cell_type": "code",
   "execution_count": 1,
   "id": "1f280af8",
   "metadata": {},
   "outputs": [],
   "source": [
    "# Loggers in Python\n",
    "# For logging we use Logging Pacakage"
   ]
  },
  {
   "cell_type": "code",
   "execution_count": 2,
   "id": "866153f7",
   "metadata": {},
   "outputs": [],
   "source": [
    "import logging as lg\n",
    "import os"
   ]
  },
  {
   "cell_type": "code",
   "execution_count": 5,
   "id": "84b99a39",
   "metadata": {},
   "outputs": [
    {
     "data": {
      "text/plain": [
       "b'C:\\\\Users\\\\DELL\\\\Python Basic'"
      ]
     },
     "execution_count": 5,
     "metadata": {},
     "output_type": "execute_result"
    }
   ],
   "source": [
    "os.getcwdb()"
   ]
  },
  {
   "cell_type": "code",
   "execution_count": 6,
   "id": "a5cd4b34",
   "metadata": {},
   "outputs": [],
   "source": [
    "os.mkdir('LoggingFinal')"
   ]
  },
  {
   "cell_type": "code",
   "execution_count": 7,
   "id": "433030ad",
   "metadata": {},
   "outputs": [
    {
     "data": {
      "text/plain": [
       "'C:\\\\Users\\\\DELL\\\\Python Basic'"
      ]
     },
     "execution_count": 7,
     "metadata": {},
     "output_type": "execute_result"
    }
   ],
   "source": [
    "os.getcwd()"
   ]
  },
  {
   "cell_type": "code",
   "execution_count": 9,
   "id": "b0ff00d1",
   "metadata": {},
   "outputs": [],
   "source": [
    "os.chdir('LoggingFinal')"
   ]
  },
  {
   "cell_type": "code",
   "execution_count": 10,
   "id": "51421950",
   "metadata": {},
   "outputs": [
    {
     "data": {
      "text/plain": [
       "'C:\\\\Users\\\\DELL\\\\Python Basic\\\\LoggingFinal'"
      ]
     },
     "execution_count": 10,
     "metadata": {},
     "output_type": "execute_result"
    }
   ],
   "source": [
    "os.getcwd()"
   ]
  },
  {
   "cell_type": "code",
   "execution_count": 12,
   "id": "484a8a10",
   "metadata": {},
   "outputs": [],
   "source": [
    "lg.basicConfig(filename='Finallog.log',level=lg.INFO,format= '%(asctime)s %(message)s')"
   ]
  },
  {
   "cell_type": "code",
   "execution_count": 13,
   "id": "5d16c2f0",
   "metadata": {},
   "outputs": [],
   "source": [
    "# Three basic level of Log types are as follows:-\n",
    "#(1) -- info() \n",
    "#(2) -- warning()\n",
    "#(3) -- error()"
   ]
  },
  {
   "cell_type": "code",
   "execution_count": 14,
   "id": "57708441",
   "metadata": {},
   "outputs": [],
   "source": [
    "lg.info(\"It logs information\")"
   ]
  },
  {
   "cell_type": "code",
   "execution_count": 15,
   "id": "4ea8a16a",
   "metadata": {},
   "outputs": [],
   "source": [
    "lg.error(\"This help us log Error\")"
   ]
  },
  {
   "cell_type": "code",
   "execution_count": 16,
   "id": "ddae0537",
   "metadata": {},
   "outputs": [],
   "source": [
    "lg.warning(\"Hels us to show warning\")"
   ]
  },
  {
   "cell_type": "code",
   "execution_count": 18,
   "id": "f7a9ef1f",
   "metadata": {},
   "outputs": [],
   "source": [
    "# To off log we use shutdoewn()\n",
    "lg.shutdown()"
   ]
  },
  {
   "cell_type": "code",
   "execution_count": 22,
   "id": "d785596d",
   "metadata": {},
   "outputs": [],
   "source": [
    "import logging as lg\n",
    "lg.basicConfig(filename='Finallog1.log',level=lg.INFO,format='%(asctime)s %(message)s')\n",
    "def loggingPractice(a,b):\n",
    "    try:\n",
    "        lg.info(\"This method takes two value\")\n",
    "        if(a/b == 0):\n",
    "            print(\"Even Number\")\n",
    "    except Exception as e:\n",
    "        lg.info('Error Occured')\n",
    "        lg.exception(e.with_traceback)"
   ]
  },
  {
   "cell_type": "code",
   "execution_count": 23,
   "id": "2d1124b4",
   "metadata": {},
   "outputs": [],
   "source": [
    "loggingPractice(2,0)"
   ]
  },
  {
   "cell_type": "code",
   "execution_count": 24,
   "id": "23f23852",
   "metadata": {},
   "outputs": [],
   "source": [
    "if os.path.exists('Finallog1.log'):\n",
    "    f = open('Finallog1.log','r+')\n",
    "    f.read()\n",
    "    f.closel()\n"
   ]
  },
  {
   "cell_type": "code",
   "execution_count": 25,
   "id": "c714ac90",
   "metadata": {},
   "outputs": [
    {
     "name": "stdout",
     "output_type": "stream",
     "text": [
      "Requirement already satisfied: ipdb in c:\\users\\dell\\anaconda3\\lib\\site-packages (0.13.9)\n",
      "Requirement already satisfied: ipython>=7.17.0 in c:\\users\\dell\\anaconda3\\lib\\site-packages (from ipdb) (7.29.0)\n",
      "Requirement already satisfied: setuptools in c:\\users\\dell\\anaconda3\\lib\\site-packages (from ipdb) (58.0.4)\n",
      "Requirement already satisfied: decorator in c:\\users\\dell\\anaconda3\\lib\\site-packages (from ipdb) (5.1.0)\n",
      "Requirement already satisfied: toml>=0.10.2 in c:\\users\\dell\\anaconda3\\lib\\site-packages (from ipdb) (0.10.2)\n",
      "Requirement already satisfied: colorama in c:\\users\\dell\\anaconda3\\lib\\site-packages (from ipython>=7.17.0->ipdb) (0.4.4)\n",
      "Requirement already satisfied: matplotlib-inline in c:\\users\\dell\\anaconda3\\lib\\site-packages (from ipython>=7.17.0->ipdb) (0.1.2)\n",
      "Requirement already satisfied: jedi>=0.16 in c:\\users\\dell\\anaconda3\\lib\\site-packages (from ipython>=7.17.0->ipdb) (0.18.0)\n",
      "Requirement already satisfied: pickleshare in c:\\users\\dell\\anaconda3\\lib\\site-packages (from ipython>=7.17.0->ipdb) (0.7.5)\n",
      "Requirement already satisfied: pygments in c:\\users\\dell\\anaconda3\\lib\\site-packages (from ipython>=7.17.0->ipdb) (2.10.0)\n",
      "Requirement already satisfied: prompt-toolkit!=3.0.0,!=3.0.1,<3.1.0,>=2.0.0 in c:\\users\\dell\\anaconda3\\lib\\site-packages (from ipython>=7.17.0->ipdb) (3.0.20)\n",
      "Requirement already satisfied: traitlets>=4.2 in c:\\users\\dell\\anaconda3\\lib\\site-packages (from ipython>=7.17.0->ipdb) (5.1.0)\n",
      "Requirement already satisfied: backcall in c:\\users\\dell\\anaconda3\\lib\\site-packages (from ipython>=7.17.0->ipdb) (0.2.0)\n",
      "Requirement already satisfied: parso<0.9.0,>=0.8.0 in c:\\users\\dell\\anaconda3\\lib\\site-packages (from jedi>=0.16->ipython>=7.17.0->ipdb) (0.8.2)\n",
      "Requirement already satisfied: wcwidth in c:\\users\\dell\\anaconda3\\lib\\site-packages (from prompt-toolkit!=3.0.0,!=3.0.1,<3.1.0,>=2.0.0->ipython>=7.17.0->ipdb) (0.2.5)\n"
     ]
    }
   ],
   "source": [
    "# ipdb is a python pacakage which is used in order to debug\n",
    "!pip install ipdb"
   ]
  },
  {
   "cell_type": "code",
   "execution_count": 26,
   "id": "329e5698",
   "metadata": {},
   "outputs": [],
   "source": [
    "import ipdb"
   ]
  },
  {
   "cell_type": "code",
   "execution_count": null,
   "id": "cb9eb443",
   "metadata": {},
   "outputs": [],
   "source": [
    "def add(*args):\n",
    "    ipdb.set_trace()\n",
    "    return args[0]+args[1]"
   ]
  },
  {
   "cell_type": "code",
   "execution_count": null,
   "id": "4cc2a7ba",
   "metadata": {},
   "outputs": [],
   "source": [
    "add(2,3)"
   ]
  },
  {
   "cell_type": "code",
   "execution_count": null,
   "id": "e919ae33",
   "metadata": {},
   "outputs": [],
   "source": [
    "def count(n):\n",
    "    ipdb.set_trace()\n",
    "    l=[]\n",
    "    for i in range(10):\n",
    "        l.append()"
   ]
  },
  {
   "cell_type": "code",
   "execution_count": null,
   "id": "f6d159ee",
   "metadata": {},
   "outputs": [],
   "source": [
    "count(10)"
   ]
  },
  {
   "cell_type": "code",
   "execution_count": null,
   "id": "232f966c",
   "metadata": {},
   "outputs": [],
   "source": []
  }
 ],
 "metadata": {
  "kernelspec": {
   "display_name": "Python 3 (ipykernel)",
   "language": "python",
   "name": "python3"
  },
  "language_info": {
   "codemirror_mode": {
    "name": "ipython",
    "version": 3
   },
   "file_extension": ".py",
   "mimetype": "text/x-python",
   "name": "python",
   "nbconvert_exporter": "python",
   "pygments_lexer": "ipython3",
   "version": "3.9.7"
  }
 },
 "nbformat": 4,
 "nbformat_minor": 5
}
