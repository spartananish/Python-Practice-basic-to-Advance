{
 "cells": [
  {
   "cell_type": "code",
   "execution_count": 1,
   "id": "616ece39",
   "metadata": {},
   "outputs": [],
   "source": [
    "# File system in python"
   ]
  },
  {
   "cell_type": "code",
   "execution_count": 2,
   "id": "4c514ee2",
   "metadata": {},
   "outputs": [],
   "source": [
    "# To open any file we use open()\n",
    "f = open('file.txt','w')"
   ]
  },
  {
   "cell_type": "code",
   "execution_count": 3,
   "id": "1d7faf45",
   "metadata": {},
   "outputs": [
    {
     "data": {
      "text/plain": [
       "19"
      ]
     },
     "execution_count": 3,
     "metadata": {},
     "output_type": "execute_result"
    }
   ],
   "source": [
    "# To write anything in file\n",
    "f.write(\"Test your file data\")"
   ]
  },
  {
   "cell_type": "code",
   "execution_count": 4,
   "id": "72e4390f",
   "metadata": {},
   "outputs": [],
   "source": [
    "f.close()"
   ]
  },
  {
   "cell_type": "code",
   "execution_count": 5,
   "id": "169ed3c2",
   "metadata": {},
   "outputs": [],
   "source": [
    "f = open('file.txt')"
   ]
  },
  {
   "cell_type": "code",
   "execution_count": 6,
   "id": "8f0f85dd",
   "metadata": {},
   "outputs": [
    {
     "data": {
      "text/plain": [
       "'Test your file data'"
      ]
     },
     "execution_count": 6,
     "metadata": {},
     "output_type": "execute_result"
    }
   ],
   "source": [
    "f.read()"
   ]
  },
  {
   "cell_type": "code",
   "execution_count": 10,
   "id": "983a9bb5",
   "metadata": {},
   "outputs": [
    {
     "data": {
      "text/plain": [
       "'Test your file data'"
      ]
     },
     "execution_count": 10,
     "metadata": {},
     "output_type": "execute_result"
    }
   ],
   "source": [
    "# It will not read any data as cursor has reached aat the end\n",
    "# to again bring cursor() at any paticular position we need to use f.seek()\n",
    "f.read()\n",
    "# After using f.seek()\n",
    "f.seek(0)\n",
    "f.read()"
   ]
  },
  {
   "cell_type": "code",
   "execution_count": 12,
   "id": "68902dde",
   "metadata": {},
   "outputs": [
    {
     "data": {
      "text/plain": [
       "'Test '"
      ]
     },
     "execution_count": 12,
     "metadata": {},
     "output_type": "execute_result"
    }
   ],
   "source": [
    "# To read any paticular amount of data\n",
    "f.seek(0)\n",
    "f.read(5)"
   ]
  },
  {
   "cell_type": "code",
   "execution_count": 15,
   "id": "70082999",
   "metadata": {},
   "outputs": [
    {
     "data": {
      "text/plain": [
       "9"
      ]
     },
     "execution_count": 15,
     "metadata": {},
     "output_type": "execute_result"
    }
   ],
   "source": [
    "# To write every data in new Line\n",
    "f.close()\n",
    "f = open('file.txt','w')\n",
    "f.write('dfjksdfh\\n')# Writing data every time in new LIne"
   ]
  },
  {
   "cell_type": "code",
   "execution_count": 16,
   "id": "9359b4bd",
   "metadata": {},
   "outputs": [],
   "source": [
    "# Different way of accessing file are mention below:-\n",
    "#(1) r\n",
    "#(2) r+\n",
    "#(3) w\n",
    "#(4) w+\n",
    "#(5) a\n",
    "#(6) a+"
   ]
  },
  {
   "cell_type": "code",
   "execution_count": 17,
   "id": "2c2b7016",
   "metadata": {},
   "outputs": [],
   "source": [
    "# os pacakage in python is used to perform all operation related to operating system\n"
   ]
  },
  {
   "cell_type": "code",
   "execution_count": 18,
   "id": "c77487e4",
   "metadata": {},
   "outputs": [],
   "source": [
    "import os"
   ]
  },
  {
   "cell_type": "code",
   "execution_count": 19,
   "id": "96113024",
   "metadata": {},
   "outputs": [
    {
     "data": {
      "text/plain": [
       "'C:\\\\Users\\\\DELL\\\\Python Basic'"
      ]
     },
     "execution_count": 19,
     "metadata": {},
     "output_type": "execute_result"
    }
   ],
   "source": [
    "os.getcwd()"
   ]
  },
  {
   "cell_type": "code",
   "execution_count": 21,
   "id": "0c69136d",
   "metadata": {},
   "outputs": [
    {
     "data": {
      "text/plain": [
       "['.ipynb_checkpoints',\n",
       " 'Anaconda',\n",
       " 'Cassandra Database',\n",
       " 'Class and Object Final.ipynb',\n",
       " 'Class and Object.ipynb',\n",
       " 'Database MongoDB',\n",
       " 'DataBase SQL',\n",
       " 'File System Final.ipynb',\n",
       " 'File System Methods.ipynb',\n",
       " 'file.txt',\n",
       " 'fileLogs',\n",
       " 'Flask',\n",
       " 'Functions.ipynb',\n",
       " 'Homework-1.ipynb',\n",
       " 'HW.ipynb',\n",
       " 'Inheritance and Abstraction Final.ipynb',\n",
       " 'Inheritance and Abstraction.ipynb',\n",
       " 'Jupyter Introduction.ipynb',\n",
       " 'logging',\n",
       " 'Logging and Debugging Final.ipynb',\n",
       " 'Logging and Debugging.ipynb',\n",
       " 'loggingDir',\n",
       " 'LoggingFinal',\n",
       " 'Panda',\n",
       " 'Panda Practice',\n",
       " 'Pandas',\n",
       " 'Python basic.ipynb',\n",
       " 'Python Introduction Final .ipynb',\n",
       " 'test']"
      ]
     },
     "execution_count": 21,
     "metadata": {},
     "output_type": "execute_result"
    }
   ],
   "source": [
    "os.listdir()"
   ]
  },
  {
   "cell_type": "code",
   "execution_count": 22,
   "id": "f942ff08",
   "metadata": {},
   "outputs": [],
   "source": [
    "os.mkdir('TestFinal1')"
   ]
  },
  {
   "cell_type": "code",
   "execution_count": 23,
   "id": "a1930745",
   "metadata": {},
   "outputs": [],
   "source": [
    "os.mkdir('TestFinal2')"
   ]
  },
  {
   "cell_type": "code",
   "execution_count": 24,
   "id": "dba56676",
   "metadata": {},
   "outputs": [],
   "source": [
    "os.chdir('TestFinal1')"
   ]
  },
  {
   "cell_type": "code",
   "execution_count": 25,
   "id": "d484a778",
   "metadata": {},
   "outputs": [
    {
     "data": {
      "text/plain": [
       "'C:\\\\Users\\\\DELL\\\\Python Basic\\\\TestFinal1'"
      ]
     },
     "execution_count": 25,
     "metadata": {},
     "output_type": "execute_result"
    }
   ],
   "source": [
    "os.getcwd()"
   ]
  },
  {
   "cell_type": "code",
   "execution_count": 27,
   "id": "cafb2861",
   "metadata": {},
   "outputs": [],
   "source": [
    "os.chdir('C:\\\\Users\\\\DELL\\\\Python Basic')"
   ]
  },
  {
   "cell_type": "code",
   "execution_count": 28,
   "id": "ab24c9f4",
   "metadata": {},
   "outputs": [
    {
     "data": {
      "text/plain": [
       "'C:\\\\Users\\\\DELL\\\\Python Basic'"
      ]
     },
     "execution_count": 28,
     "metadata": {},
     "output_type": "execute_result"
    }
   ],
   "source": []
  },
  {
   "cell_type": "code",
   "execution_count": 29,
   "id": "967b6dc3",
   "metadata": {},
   "outputs": [],
   "source": [
    "os.chdir('C:\\\\Users\\\\DELL\\\\Python Basic\\\\TestFinal1')"
   ]
  },
  {
   "cell_type": "code",
   "execution_count": 30,
   "id": "ee9fcc99",
   "metadata": {},
   "outputs": [],
   "source": [
    "if 'TestFinal1' in os.listdir():\n",
    "    print('My dir is present')\n",
    "    f2 = open('MyFile.txt','w')\n",
    "    f2.write(\"This is file in side my Dir\")\n",
    "    f2.close()\n",
    "if 'childTest' in os.listdir():\n",
    "    f2=open('MyFile.txt','r')\n",
    "    f2.read()\n",
    "    "
   ]
  },
  {
   "cell_type": "code",
   "execution_count": 31,
   "id": "18d4c999",
   "metadata": {},
   "outputs": [],
   "source": [
    "import os\n",
    "\n",
    "def fileOperation():\n",
    "    if not'MyDir' in os.curdir():\n",
    "        os.mkdir('MyDir')\n",
    "        os.chdirh('MyDir')\n",
    "    for i in range(10):\n",
    "        f =open('file'+str(i)+'.txt','w')\n",
    "        f.write('This file is'+str(i))\n",
    "    for i in range(10):\n",
    "        data =[]\n",
    "        f = open('file'+str(i)+'.txt','r')\n",
    "        print(f.read())\n",
    "        data.append(f.read())\n",
    "    f=open('parentFile','w')\n",
    "    for i in data:\n",
    "        f.write(i)\n",
    "    f.seek()\n",
    "    f.read()"
   ]
  },
  {
   "cell_type": "code",
   "execution_count": 32,
   "id": "2fea00cd",
   "metadata": {},
   "outputs": [
    {
     "data": {
      "text/plain": [
       "[]"
      ]
     },
     "execution_count": 32,
     "metadata": {},
     "output_type": "execute_result"
    }
   ],
   "source": [
    "os\n",
    "os.listdir()"
   ]
  },
  {
   "cell_type": "code",
   "execution_count": null,
   "id": "c64b8bbf",
   "metadata": {},
   "outputs": [],
   "source": []
  }
 ],
 "metadata": {
  "kernelspec": {
   "display_name": "Python 3 (ipykernel)",
   "language": "python",
   "name": "python3"
  },
  "language_info": {
   "codemirror_mode": {
    "name": "ipython",
    "version": 3
   },
   "file_extension": ".py",
   "mimetype": "text/x-python",
   "name": "python",
   "nbconvert_exporter": "python",
   "pygments_lexer": "ipython3",
   "version": "3.9.7"
  }
 },
 "nbformat": 4,
 "nbformat_minor": 5
}
