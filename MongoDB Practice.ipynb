{
 "cells": [
  {
   "cell_type": "code",
   "execution_count": 1,
   "id": "39f7594f",
   "metadata": {},
   "outputs": [],
   "source": [
    "# importing pymongo\n",
    "import pymongo\n"
   ]
  },
  {
   "cell_type": "code",
   "execution_count": 2,
   "id": "eef5e417",
   "metadata": {},
   "outputs": [],
   "source": [
    "# Creating Connection\n",
    "connection = pymongo.MongoClient('mongodb://localhost:27017/')"
   ]
  },
  {
   "cell_type": "code",
   "execution_count": 3,
   "id": "3364d883",
   "metadata": {},
   "outputs": [],
   "source": [
    "# Creting DB\n",
    "Db = connection['PracticeDb']"
   ]
  },
  {
   "cell_type": "code",
   "execution_count": 4,
   "id": "a4713e38",
   "metadata": {},
   "outputs": [],
   "source": [
    "collection = Db['practiceData']"
   ]
  },
  {
   "cell_type": "code",
   "execution_count": 5,
   "id": "5714a1b3",
   "metadata": {},
   "outputs": [
    {
     "data": {
      "text/plain": [
       "<pymongo.results.InsertOneResult at 0x281fed2f300>"
      ]
     },
     "execution_count": 5,
     "metadata": {},
     "output_type": "execute_result"
    }
   ],
   "source": [
    "data ={'name':'Anish kumar Sngh','course':'FSDS','batch':'2021','type':'job assist'}\n",
    "collection.insert_one(data)"
   ]
  },
  {
   "cell_type": "code",
   "execution_count": 6,
   "id": "d32bec9c",
   "metadata": {},
   "outputs": [
    {
     "ename": "SyntaxError",
     "evalue": "EOL while scanning string literal (Temp/ipykernel_6420/705075891.py, line 1)",
     "output_type": "error",
     "traceback": [
      "\u001b[1;36m  File \u001b[1;32m\"C:\\Users\\DELL\\AppData\\Local\\Temp/ipykernel_6420/705075891.py\"\u001b[1;36m, line \u001b[1;32m1\u001b[0m\n\u001b[1;33m    data=[{'name':'Prince','course':'FMERN STACK','batch':'2021','type':'job assist'},{'name':'Abhishek','course':'FMERN STACK','batch':'2021','type':'job assist}}]\u001b[0m\n\u001b[1;37m                                                                                                                                                                    ^\u001b[0m\n\u001b[1;31mSyntaxError\u001b[0m\u001b[1;31m:\u001b[0m EOL while scanning string literal\n"
     ]
    }
   ],
   "source": [
    "data=[{'name':'Prince','course':'FMERN STACK','batch':'2021','type':'job assist'},{'name':'Abhishek','course':'FMERN STACK','batch':'2021','type':'job assist}}]"
   ]
  },
  {
   "cell_type": "code",
   "execution_count": 7,
   "id": "dba84b2d",
   "metadata": {},
   "outputs": [
    {
     "data": {
      "text/plain": [
       "<pymongo.results.InsertManyResult at 0x281ff816180>"
      ]
     },
     "execution_count": 7,
     "metadata": {},
     "output_type": "execute_result"
    }
   ],
   "source": [
    "data=[{'name':'Prince','course':'FMERN STACK','batch':'2021','type':'job assist'},{'name':'Abhishek','course':'FMERN STACK','batch':'2021','type':'job assist'}]\n",
    "collection.insert_many(data)"
   ]
  },
  {
   "cell_type": "code",
   "execution_count": 8,
   "id": "91091605",
   "metadata": {},
   "outputs": [
    {
     "name": "stdout",
     "output_type": "stream",
     "text": [
      "None\n"
     ]
    }
   ],
   "source": [
    "print(collection.find_one(1))"
   ]
  },
  {
   "cell_type": "code",
   "execution_count": 9,
   "id": "66d13a8d",
   "metadata": {},
   "outputs": [],
   "source": [
    "import pymongo\n"
   ]
  },
  {
   "cell_type": "code",
   "execution_count": 10,
   "id": "a1239531",
   "metadata": {},
   "outputs": [],
   "source": [
    "client = pymongo.MongoClient('mongodb://localhost:27017/')"
   ]
  },
  {
   "cell_type": "code",
   "execution_count": 11,
   "id": "2e717532",
   "metadata": {},
   "outputs": [],
   "source": [
    "db = client.list_database_names()"
   ]
  },
  {
   "cell_type": "code",
   "execution_count": 12,
   "id": "f5336bf4",
   "metadata": {},
   "outputs": [
    {
     "name": "stdout",
     "output_type": "stream",
     "text": [
      "['PracticeDb', 'TestDB', 'admin', 'config', 'local', 'test']\n",
      "['PracticeDb', 'TestDB', 'admin', 'config', 'local', 'test']\n",
      "['PracticeDb', 'TestDB', 'admin', 'config', 'local', 'test']\n",
      "['PracticeDb', 'TestDB', 'admin', 'config', 'local', 'test']\n",
      "['PracticeDb', 'TestDB', 'admin', 'config', 'local', 'test']\n",
      "['PracticeDb', 'TestDB', 'admin', 'config', 'local', 'test']\n"
     ]
    }
   ],
   "source": [
    "for i in db : print(db)"
   ]
  },
  {
   "cell_type": "code",
   "execution_count": 13,
   "id": "42c1dcbf",
   "metadata": {},
   "outputs": [
    {
     "data": {
      "text/plain": [
       "['PracticeDb', 'TestDB', 'admin', 'config', 'local', 'test']"
      ]
     },
     "execution_count": 13,
     "metadata": {},
     "output_type": "execute_result"
    }
   ],
   "source": [
    "client.list_database_names()"
   ]
  },
  {
   "cell_type": "code",
   "execution_count": 15,
   "id": "36f82439",
   "metadata": {},
   "outputs": [],
   "source": [
    "db = client[\"test\"]"
   ]
  },
  {
   "cell_type": "code",
   "execution_count": 16,
   "id": "2b054aaa",
   "metadata": {},
   "outputs": [],
   "source": [
    "cellection = db[\"Practice\"]"
   ]
  },
  {
   "cell_type": "code",
   "execution_count": 17,
   "id": "7f1b3ca3",
   "metadata": {},
   "outputs": [
    {
     "data": {
      "text/plain": [
       "<pymongo.results.InsertOneResult at 0x28181c08c40>"
      ]
     },
     "execution_count": 17,
     "metadata": {},
     "output_type": "execute_result"
    }
   ],
   "source": [
    "record = {'name':'Anish','rollNum':'39','course':\"FSDS\"}\n",
    "collection.insert_one(record)"
   ]
  },
  {
   "cell_type": "code",
   "execution_count": 18,
   "id": "9b759506",
   "metadata": {},
   "outputs": [
    {
     "data": {
      "text/plain": [
       "<pymongo.results.InsertManyResult at 0x28181cb96c0>"
      ]
     },
     "execution_count": 18,
     "metadata": {},
     "output_type": "execute_result"
    }
   ],
   "source": [
    "record = [{'name':'Anish','rollNum':'39','course':\"FSDS\"},{'name':'Anish','rollNum':'39','course':\"FSDS\"},{'name':'Anish','rollNum':'39','course':\"FSDS\"},{'name':'Anish','rollNum':'39','course':\"FSDS\"}]\n",
    "collection.insert_many(record)"
   ]
  },
  {
   "cell_type": "code",
   "execution_count": 21,
   "id": "cd51d6d5",
   "metadata": {},
   "outputs": [
    {
     "data": {
      "text/plain": [
       "{'_id': ObjectId('61b8460f17c8131e74dc78a0'),\n",
       " 'name': 'Anish kumar Sngh',\n",
       " 'course': 'FSDS',\n",
       " 'batch': '2021',\n",
       " 'type': 'job assist'}"
      ]
     },
     "execution_count": 21,
     "metadata": {},
     "output_type": "execute_result"
    }
   ],
   "source": [
    "collection.find_one()\n"
   ]
  },
  {
   "cell_type": "code",
   "execution_count": 22,
   "id": "c9072621",
   "metadata": {},
   "outputs": [
    {
     "name": "stdout",
     "output_type": "stream",
     "text": [
      "_id\n",
      "name\n",
      "course\n",
      "batch\n",
      "type\n"
     ]
    }
   ],
   "source": [
    "for i in collection.find_one():\n",
    "    print(i)"
   ]
  },
  {
   "cell_type": "code",
   "execution_count": 23,
   "id": "02b358ab",
   "metadata": {},
   "outputs": [
    {
     "name": "stdout",
     "output_type": "stream",
     "text": [
      "{'_id': ObjectId('61b8460f17c8131e74dc78a0'), 'name': 'Anish kumar Sngh', 'course': 'FSDS', 'batch': '2021', 'type': 'job assist'}\n",
      "{'_id': ObjectId('61b848ba17c8131e74dc78a1'), 'name': 'Prince', 'course': 'FMERN STACK', 'batch': '2021', 'type': 'job assist'}\n",
      "{'_id': ObjectId('61b848ba17c8131e74dc78a2'), 'name': 'Abhishek', 'course': 'FMERN STACK', 'batch': '2021', 'type': 'job assist'}\n",
      "{'_id': ObjectId('61b967be2d1c075873c9aafe'), 'name': 'Anish kumar Sngh', 'course': 'FSDS', 'batch': '2021', 'type': 'job assist'}\n",
      "{'_id': ObjectId('61b967c32d1c075873c9aaff'), 'name': 'Prince', 'course': 'FMERN STACK', 'batch': '2021', 'type': 'job assist'}\n",
      "{'_id': ObjectId('61b967c32d1c075873c9ab00'), 'name': 'Abhishek', 'course': 'FMERN STACK', 'batch': '2021', 'type': 'job assist'}\n",
      "{'_id': ObjectId('61b96b5a2d1c075873c9ab02'), 'name': 'Anish', 'rollNum': '39', 'course': 'FSDS'}\n",
      "{'_id': ObjectId('61b96ddc2d1c075873c9ab03'), 'name': 'Anish', 'rollNum': '39', 'course': 'FSDS'}\n",
      "{'_id': ObjectId('61b96ddc2d1c075873c9ab04'), 'name': 'Anish', 'rollNum': '39', 'course': 'FSDS'}\n",
      "{'_id': ObjectId('61b96ddc2d1c075873c9ab05'), 'name': 'Anish', 'rollNum': '39', 'course': 'FSDS'}\n",
      "{'_id': ObjectId('61b96ddc2d1c075873c9ab06'), 'name': 'Anish', 'rollNum': '39', 'course': 'FSDS'}\n"
     ]
    }
   ],
   "source": [
    "for i in collection.find():\n",
    "    print(i)"
   ]
  },
  {
   "cell_type": "code",
   "execution_count": 24,
   "id": "cab79ec7",
   "metadata": {},
   "outputs": [
    {
     "data": {
      "text/plain": [
       "<pymongo.results.InsertManyResult at 0x28181e2cb00>"
      ]
     },
     "execution_count": 24,
     "metadata": {},
     "output_type": "execute_result"
    }
   ],
   "source": [
    "record = [{'name':'Anish','rollNum':'32','course':\"FSDS\"},{'name':'Anish','rollNum':'33','course':\"FSDS\"},{'name':'Anish','rollNum':'34','course':\"FSDS\"},{'name':'Anish','rollNum':'35','course':\"FSDS\"}]\n",
    "collection.insert_many(record)"
   ]
  },
  {
   "cell_type": "code",
   "execution_count": 28,
   "id": "6b8946e7",
   "metadata": {},
   "outputs": [
    {
     "name": "stdout",
     "output_type": "stream",
     "text": [
      "{'_id': ObjectId('61b96b5a2d1c075873c9ab02'), 'name': 'Anish', 'rollNum': '39', 'course': 'FSDS'}\n",
      "{'_id': ObjectId('61b96ddc2d1c075873c9ab03'), 'name': 'Anish', 'rollNum': '39', 'course': 'FSDS'}\n",
      "{'_id': ObjectId('61b96ddc2d1c075873c9ab04'), 'name': 'Anish', 'rollNum': '39', 'course': 'FSDS'}\n",
      "{'_id': ObjectId('61b96ddc2d1c075873c9ab05'), 'name': 'Anish', 'rollNum': '39', 'course': 'FSDS'}\n",
      "{'_id': ObjectId('61b96ddc2d1c075873c9ab06'), 'name': 'Anish', 'rollNum': '39', 'course': 'FSDS'}\n",
      "{'_id': ObjectId('61b971a82d1c075873c9ab09'), 'name': 'Anish', 'rollNum': '34', 'course': 'FSDS'}\n",
      "{'_id': ObjectId('61b971a82d1c075873c9ab0a'), 'name': 'Anish', 'rollNum': '35', 'course': 'FSDS'}\n"
     ]
    }
   ],
   "source": [
    "for i in collection.find({'rollNum':{'$gt':'33'}}):\n",
    "    print(i)"
   ]
  },
  {
   "cell_type": "code",
   "execution_count": 29,
   "id": "3691dd89",
   "metadata": {},
   "outputs": [
    {
     "name": "stdout",
     "output_type": "stream",
     "text": [
      "{'_id': ObjectId('61b96b5a2d1c075873c9ab02'), 'name': 'Anish', 'rollNum': '39', 'course': 'FSDS'}\n",
      "{'_id': ObjectId('61b96ddc2d1c075873c9ab03'), 'name': 'Anish', 'rollNum': '39', 'course': 'FSDS'}\n",
      "{'_id': ObjectId('61b96ddc2d1c075873c9ab04'), 'name': 'Anish', 'rollNum': '39', 'course': 'FSDS'}\n",
      "{'_id': ObjectId('61b96ddc2d1c075873c9ab05'), 'name': 'Anish', 'rollNum': '39', 'course': 'FSDS'}\n",
      "{'_id': ObjectId('61b96ddc2d1c075873c9ab06'), 'name': 'Anish', 'rollNum': '39', 'course': 'FSDS'}\n"
     ]
    }
   ],
   "source": [
    "for i in collection.find({'rollNum':{'$gt':'36'}}):\n",
    "    print(i)"
   ]
  },
  {
   "cell_type": "code",
   "execution_count": 33,
   "id": "9d273bb2",
   "metadata": {},
   "outputs": [
    {
     "name": "stdout",
     "output_type": "stream",
     "text": [
      "{'_id': ObjectId('61b96b5a2d1c075873c9ab02'), 'name': 'Anish', 'rollNum': '39', 'course': 'FSDS'}\n",
      "{'_id': ObjectId('61b96ddc2d1c075873c9ab03'), 'name': 'Anish', 'rollNum': '39', 'course': 'FSDS'}\n",
      "{'_id': ObjectId('61b96ddc2d1c075873c9ab04'), 'name': 'Anish', 'rollNum': '39', 'course': 'FSDS'}\n",
      "{'_id': ObjectId('61b96ddc2d1c075873c9ab05'), 'name': 'Anish', 'rollNum': '39', 'course': 'FSDS'}\n",
      "{'_id': ObjectId('61b96ddc2d1c075873c9ab06'), 'name': 'Anish', 'rollNum': '39', 'course': 'FSDS'}\n"
     ]
    }
   ],
   "source": [
    "for i in  collection.find({'rollNum':{'$gte':'39'}}):\n",
    "    print(i)"
   ]
  },
  {
   "cell_type": "code",
   "execution_count": null,
   "id": "07b86531",
   "metadata": {},
   "outputs": [],
   "source": []
  }
 ],
 "metadata": {
  "kernelspec": {
   "display_name": "Python 3 (ipykernel)",
   "language": "python",
   "name": "python3"
  },
  "language_info": {
   "codemirror_mode": {
    "name": "ipython",
    "version": 3
   },
   "file_extension": ".py",
   "mimetype": "text/x-python",
   "name": "python",
   "nbconvert_exporter": "python",
   "pygments_lexer": "ipython3",
   "version": "3.9.7"
  }
 },
 "nbformat": 4,
 "nbformat_minor": 5
}
