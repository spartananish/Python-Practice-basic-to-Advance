{
 "cells": [
  {
   "cell_type": "code",
   "execution_count": 12,
   "id": "1303a26d",
   "metadata": {},
   "outputs": [],
   "source": [
    "# casandra practice\n",
    "# Three step of Casandra Connection\n",
    "#(1) from cassandra.cluster import Cluster\n",
    "#(2)cluster = Cluster()\n",
    "#(3)session_offline = cluster.connect()\n",
    "#(4)TO execute any query we exceute inside \n",
    "from cassandra.cluster import Cluster"
   ]
  },
  {
   "cell_type": "code",
   "execution_count": 17,
   "id": "1829a6da",
   "metadata": {},
   "outputs": [],
   "source": [
    "from cassandra.cluster import Cluster\n",
    "cluster = Cluster()\n",
    "session_offline= cluster.connect()"
   ]
  },
  {
   "cell_type": "code",
   "execution_count": 20,
   "id": "87ffc871",
   "metadata": {},
   "outputs": [],
   "source": [
    "from cassandra.cluster import Cluster\n",
    "cluster = Cluster()\n",
    "session_offline = cluster.connect()"
   ]
  },
  {
   "cell_type": "code",
   "execution_count": 23,
   "id": "6f084a20",
   "metadata": {},
   "outputs": [
    {
     "ename": "SyntaxError",
     "evalue": "invalid syntax (Temp/ipykernel_7820/2355218383.py, line 1)",
     "output_type": "error",
     "traceback": [
      "\u001b[1;36m  File \u001b[1;32m\"C:\\Users\\DELL\\AppData\\Local\\Temp/ipykernel_7820/2355218383.py\"\u001b[1;36m, line \u001b[1;32m1\u001b[0m\n\u001b[1;33m    b = session_offline.execute('create keyspace CassandraPractice with replication={'class':'SimpleStrategy','replication_factor':'1'} and durable_writes='true'')\u001b[0m\n\u001b[1;37m                                                                                      ^\u001b[0m\n\u001b[1;31mSyntaxError\u001b[0m\u001b[1;31m:\u001b[0m invalid syntax\n"
     ]
    }
   ],
   "source": [
    "b = session_offline.execute('create keyspace CassandraPractice with replication={'class':'SimpleStrategy','replication_factor':'1'} and durable_writes='true'')"
   ]
  },
  {
   "cell_type": "code",
   "execution_count": 26,
   "id": "2f3a2c1a",
   "metadata": {},
   "outputs": [],
   "source": [
    "b = session_offline.execute('use anish')"
   ]
  },
  {
   "cell_type": "code",
   "execution_count": 27,
   "id": "6bfcc3e6",
   "metadata": {},
   "outputs": [
    {
     "name": "stdout",
     "output_type": "stream",
     "text": [
      "<cassandra.cluster.ResultSet object at 0x0000025D42996E50>\n"
     ]
    }
   ],
   "source": [
    "print(b)"
   ]
  },
  {
   "cell_type": "code",
   "execution_count": 28,
   "id": "b5b2453b",
   "metadata": {},
   "outputs": [],
   "source": [
    "b = session_offline.execute('create table anish.employee(id int PRIMARY KEY,name Text,emprole Text,emplevel Text)')"
   ]
  },
  {
   "cell_type": "code",
   "execution_count": 29,
   "id": "29d10fbe",
   "metadata": {},
   "outputs": [
    {
     "name": "stdout",
     "output_type": "stream",
     "text": [
      "<cassandra.cluster.ResultSet object at 0x0000025D41C238E0>\n"
     ]
    }
   ],
   "source": [
    "print(b)"
   ]
  },
  {
   "cell_type": "code",
   "execution_count": 47,
   "id": "fcc781e7",
   "metadata": {},
   "outputs": [],
   "source": [
    "# Inserting Data in table\n",
    "b = session_offline.execute(\"insert into anish.employee (id,name,emprole,emplevel) values(2,'Anish','Data scientist','Level 6')\")"
   ]
  },
  {
   "cell_type": "code",
   "execution_count": 48,
   "id": "4593a575",
   "metadata": {},
   "outputs": [],
   "source": [
    "b = session_offline.execute(\"insert into anish.employee(id,name,emprole,emplevel) values(1,'Abhsishek','Data Sciecntist','Level 7')\")"
   ]
  },
  {
   "cell_type": "code",
   "execution_count": 49,
   "id": "c7b267bb",
   "metadata": {},
   "outputs": [],
   "source": [
    "b = session_offline.execute(\"select * from anish.employee\")"
   ]
  },
  {
   "cell_type": "code",
   "execution_count": 50,
   "id": "a8d36b72",
   "metadata": {},
   "outputs": [
    {
     "name": "stdout",
     "output_type": "stream",
     "text": [
      "Row(id=1, emplevel='Level 7', emprole='Data Sciecntist', name='Abhsishek')\n",
      "Row(id=2, emplevel='Level 6', emprole='Data scientist', name='Anish')\n"
     ]
    }
   ],
   "source": [
    "# Printing statement \n",
    "for i in b:print(i)"
   ]
  },
  {
   "cell_type": "code",
   "execution_count": 51,
   "id": "1d135a7a",
   "metadata": {},
   "outputs": [],
   "source": [
    "b = session_offline.execute('alter table anish.employee add salay Text')"
   ]
  },
  {
   "cell_type": "code",
   "execution_count": 53,
   "id": "e5d48e9a",
   "metadata": {},
   "outputs": [
    {
     "data": {
      "text/plain": [
       "<cassandra.cluster.ResultSet at 0x25d4296c820>"
      ]
     },
     "execution_count": 53,
     "metadata": {},
     "output_type": "execute_result"
    }
   ],
   "source": [
    "session_offline.execute(\"insert into anish.employee(id,name,emprole,emplevel,salay) values(1,'Prince','Data Analyst','Level 9','100000')\")"
   ]
  },
  {
   "cell_type": "code",
   "execution_count": 54,
   "id": "ff322190",
   "metadata": {},
   "outputs": [
    {
     "ename": "SyntaxException",
     "evalue": "<Error from server: code=2000 [Syntax error in CQL query] message=\"line 1:53 mismatched input 'where' expecting EOF (... (salary) values('100000') [where]...)\">",
     "output_type": "error",
     "traceback": [
      "\u001b[1;31m---------------------------------------------------------------------------\u001b[0m",
      "\u001b[1;31mSyntaxException\u001b[0m                           Traceback (most recent call last)",
      "\u001b[1;32m~\\AppData\\Local\\Temp/ipykernel_7820/943190250.py\u001b[0m in \u001b[0;36m<module>\u001b[1;34m\u001b[0m\n\u001b[1;32m----> 1\u001b[1;33m \u001b[0msession_offline\u001b[0m\u001b[1;33m.\u001b[0m\u001b[0mexecute\u001b[0m\u001b[1;33m(\u001b[0m\u001b[1;34m\"insert into anish.employee (salary) values('100000') where id = 1\"\u001b[0m\u001b[1;33m)\u001b[0m\u001b[1;33m\u001b[0m\u001b[1;33m\u001b[0m\u001b[0m\n\u001b[0m",
      "\u001b[1;32m~\\anaconda3\\lib\\site-packages\\cassandra\\cluster.py\u001b[0m in \u001b[0;36mexecute\u001b[1;34m(self, query, parameters, timeout, trace, custom_payload, execution_profile, paging_state, host, execute_as)\u001b[0m\n\u001b[0;32m   2616\u001b[0m         \"\"\"\n\u001b[0;32m   2617\u001b[0m \u001b[1;33m\u001b[0m\u001b[0m\n\u001b[1;32m-> 2618\u001b[1;33m         \u001b[1;32mreturn\u001b[0m \u001b[0mself\u001b[0m\u001b[1;33m.\u001b[0m\u001b[0mexecute_async\u001b[0m\u001b[1;33m(\u001b[0m\u001b[0mquery\u001b[0m\u001b[1;33m,\u001b[0m \u001b[0mparameters\u001b[0m\u001b[1;33m,\u001b[0m \u001b[0mtrace\u001b[0m\u001b[1;33m,\u001b[0m \u001b[0mcustom_payload\u001b[0m\u001b[1;33m,\u001b[0m \u001b[0mtimeout\u001b[0m\u001b[1;33m,\u001b[0m \u001b[0mexecution_profile\u001b[0m\u001b[1;33m,\u001b[0m \u001b[0mpaging_state\u001b[0m\u001b[1;33m,\u001b[0m \u001b[0mhost\u001b[0m\u001b[1;33m,\u001b[0m \u001b[0mexecute_as\u001b[0m\u001b[1;33m)\u001b[0m\u001b[1;33m.\u001b[0m\u001b[0mresult\u001b[0m\u001b[1;33m(\u001b[0m\u001b[1;33m)\u001b[0m\u001b[1;33m\u001b[0m\u001b[1;33m\u001b[0m\u001b[0m\n\u001b[0m\u001b[0;32m   2619\u001b[0m \u001b[1;33m\u001b[0m\u001b[0m\n\u001b[0;32m   2620\u001b[0m     def execute_async(self, query, parameters=None, trace=False, custom_payload=None,\n",
      "\u001b[1;32m~\\anaconda3\\lib\\site-packages\\cassandra\\cluster.py\u001b[0m in \u001b[0;36mresult\u001b[1;34m(self)\u001b[0m\n\u001b[0;32m   4892\u001b[0m             \u001b[1;32mreturn\u001b[0m \u001b[0mResultSet\u001b[0m\u001b[1;33m(\u001b[0m\u001b[0mself\u001b[0m\u001b[1;33m,\u001b[0m \u001b[0mself\u001b[0m\u001b[1;33m.\u001b[0m\u001b[0m_final_result\u001b[0m\u001b[1;33m)\u001b[0m\u001b[1;33m\u001b[0m\u001b[1;33m\u001b[0m\u001b[0m\n\u001b[0;32m   4893\u001b[0m         \u001b[1;32melse\u001b[0m\u001b[1;33m:\u001b[0m\u001b[1;33m\u001b[0m\u001b[1;33m\u001b[0m\u001b[0m\n\u001b[1;32m-> 4894\u001b[1;33m             \u001b[1;32mraise\u001b[0m \u001b[0mself\u001b[0m\u001b[1;33m.\u001b[0m\u001b[0m_final_exception\u001b[0m\u001b[1;33m\u001b[0m\u001b[1;33m\u001b[0m\u001b[0m\n\u001b[0m\u001b[0;32m   4895\u001b[0m \u001b[1;33m\u001b[0m\u001b[0m\n\u001b[0;32m   4896\u001b[0m     \u001b[1;32mdef\u001b[0m \u001b[0mget_query_trace_ids\u001b[0m\u001b[1;33m(\u001b[0m\u001b[0mself\u001b[0m\u001b[1;33m)\u001b[0m\u001b[1;33m:\u001b[0m\u001b[1;33m\u001b[0m\u001b[1;33m\u001b[0m\u001b[0m\n",
      "\u001b[1;31mSyntaxException\u001b[0m: <Error from server: code=2000 [Syntax error in CQL query] message=\"line 1:53 mismatched input 'where' expecting EOF (... (salary) values('100000') [where]...)\">"
     ]
    }
   ],
   "source": [
    "session_offline.execute(\"insert into anish.employee (salary) values('100000') where id = 1\")"
   ]
  },
  {
   "cell_type": "code",
   "execution_count": 59,
   "id": "e976fd29",
   "metadata": {},
   "outputs": [
    {
     "ename": "InvalidRequest",
     "evalue": "Error from server: code=2200 [Invalid query] message=\"Invalid call to function sum, none of its type signatures match (known type signatures: system.sum : (double) -> double, system.sum : (tinyint) -> tinyint, system.sum : (counter) -> counter, system.sum : (int) -> int, system.sum : (varint) -> varint, system.sum : (decimal) -> decimal, system.sum : (smallint) -> smallint, system.sum : (float) -> float, system.sum : (bigint) -> bigint)\"",
     "output_type": "error",
     "traceback": [
      "\u001b[1;31m---------------------------------------------------------------------------\u001b[0m",
      "\u001b[1;31mInvalidRequest\u001b[0m                            Traceback (most recent call last)",
      "\u001b[1;32m~\\AppData\\Local\\Temp/ipykernel_7820/2053810343.py\u001b[0m in \u001b[0;36m<module>\u001b[1;34m\u001b[0m\n\u001b[1;32m----> 1\u001b[1;33m \u001b[0msession_offline\u001b[0m\u001b[1;33m.\u001b[0m\u001b[0mexecute\u001b[0m\u001b[1;33m(\u001b[0m\u001b[1;34m\"select Sum(salay) from anish.employee\"\u001b[0m\u001b[1;33m)\u001b[0m\u001b[1;33m\u001b[0m\u001b[1;33m\u001b[0m\u001b[0m\n\u001b[0m",
      "\u001b[1;32m~\\anaconda3\\lib\\site-packages\\cassandra\\cluster.py\u001b[0m in \u001b[0;36mexecute\u001b[1;34m(self, query, parameters, timeout, trace, custom_payload, execution_profile, paging_state, host, execute_as)\u001b[0m\n\u001b[0;32m   2616\u001b[0m         \"\"\"\n\u001b[0;32m   2617\u001b[0m \u001b[1;33m\u001b[0m\u001b[0m\n\u001b[1;32m-> 2618\u001b[1;33m         \u001b[1;32mreturn\u001b[0m \u001b[0mself\u001b[0m\u001b[1;33m.\u001b[0m\u001b[0mexecute_async\u001b[0m\u001b[1;33m(\u001b[0m\u001b[0mquery\u001b[0m\u001b[1;33m,\u001b[0m \u001b[0mparameters\u001b[0m\u001b[1;33m,\u001b[0m \u001b[0mtrace\u001b[0m\u001b[1;33m,\u001b[0m \u001b[0mcustom_payload\u001b[0m\u001b[1;33m,\u001b[0m \u001b[0mtimeout\u001b[0m\u001b[1;33m,\u001b[0m \u001b[0mexecution_profile\u001b[0m\u001b[1;33m,\u001b[0m \u001b[0mpaging_state\u001b[0m\u001b[1;33m,\u001b[0m \u001b[0mhost\u001b[0m\u001b[1;33m,\u001b[0m \u001b[0mexecute_as\u001b[0m\u001b[1;33m)\u001b[0m\u001b[1;33m.\u001b[0m\u001b[0mresult\u001b[0m\u001b[1;33m(\u001b[0m\u001b[1;33m)\u001b[0m\u001b[1;33m\u001b[0m\u001b[1;33m\u001b[0m\u001b[0m\n\u001b[0m\u001b[0;32m   2619\u001b[0m \u001b[1;33m\u001b[0m\u001b[0m\n\u001b[0;32m   2620\u001b[0m     def execute_async(self, query, parameters=None, trace=False, custom_payload=None,\n",
      "\u001b[1;32m~\\anaconda3\\lib\\site-packages\\cassandra\\cluster.py\u001b[0m in \u001b[0;36mresult\u001b[1;34m(self)\u001b[0m\n\u001b[0;32m   4892\u001b[0m             \u001b[1;32mreturn\u001b[0m \u001b[0mResultSet\u001b[0m\u001b[1;33m(\u001b[0m\u001b[0mself\u001b[0m\u001b[1;33m,\u001b[0m \u001b[0mself\u001b[0m\u001b[1;33m.\u001b[0m\u001b[0m_final_result\u001b[0m\u001b[1;33m)\u001b[0m\u001b[1;33m\u001b[0m\u001b[1;33m\u001b[0m\u001b[0m\n\u001b[0;32m   4893\u001b[0m         \u001b[1;32melse\u001b[0m\u001b[1;33m:\u001b[0m\u001b[1;33m\u001b[0m\u001b[1;33m\u001b[0m\u001b[0m\n\u001b[1;32m-> 4894\u001b[1;33m             \u001b[1;32mraise\u001b[0m \u001b[0mself\u001b[0m\u001b[1;33m.\u001b[0m\u001b[0m_final_exception\u001b[0m\u001b[1;33m\u001b[0m\u001b[1;33m\u001b[0m\u001b[0m\n\u001b[0m\u001b[0;32m   4895\u001b[0m \u001b[1;33m\u001b[0m\u001b[0m\n\u001b[0;32m   4896\u001b[0m     \u001b[1;32mdef\u001b[0m \u001b[0mget_query_trace_ids\u001b[0m\u001b[1;33m(\u001b[0m\u001b[0mself\u001b[0m\u001b[1;33m)\u001b[0m\u001b[1;33m:\u001b[0m\u001b[1;33m\u001b[0m\u001b[1;33m\u001b[0m\u001b[0m\n",
      "\u001b[1;31mInvalidRequest\u001b[0m: Error from server: code=2200 [Invalid query] message=\"Invalid call to function sum, none of its type signatures match (known type signatures: system.sum : (double) -> double, system.sum : (tinyint) -> tinyint, system.sum : (counter) -> counter, system.sum : (int) -> int, system.sum : (varint) -> varint, system.sum : (decimal) -> decimal, system.sum : (smallint) -> smallint, system.sum : (float) -> float, system.sum : (bigint) -> bigint)\""
     ]
    }
   ],
   "source": [
    "session_offline.execute(\"select Sum(salay) from anish.employee\")"
   ]
  },
  {
   "cell_type": "code",
   "execution_count": null,
   "id": "76bac0d2",
   "metadata": {},
   "outputs": [],
   "source": []
  }
 ],
 "metadata": {
  "kernelspec": {
   "display_name": "Python 3 (ipykernel)",
   "language": "python",
   "name": "python3"
  },
  "language_info": {
   "codemirror_mode": {
    "name": "ipython",
    "version": 3
   },
   "file_extension": ".py",
   "mimetype": "text/x-python",
   "name": "python",
   "nbconvert_exporter": "python",
   "pygments_lexer": "ipython3",
   "version": "3.9.7"
  }
 },
 "nbformat": 4,
 "nbformat_minor": 5
}
